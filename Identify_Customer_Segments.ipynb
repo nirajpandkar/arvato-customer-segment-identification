{
 "cells": [
  {
   "cell_type": "markdown",
   "metadata": {},
   "source": [
    "# Project: Identify Customer Segments\n",
    "\n",
    "In this project, you will apply unsupervised learning techniques to identify segments of the population that form the core customer base for a mail-order sales company in Germany. These segments can then be used to direct marketing campaigns towards audiences that will have the highest expected rate of returns. The data that you will use has been provided by our partners at Bertelsmann Arvato Analytics, and represents a real-life data science task.\n",
    "\n",
    "This notebook will help you complete this task by providing a framework within which you will perform your analysis steps. In each step of the project, you will see some text describing the subtask that you will perform, followed by one or more code cells for you to complete your work. **Feel free to add additional code and markdown cells as you go along so that you can explore everything in precise chunks.** The code cells provided in the base template will outline only the major tasks, and will usually not be enough to cover all of the minor tasks that comprise it.\n",
    "\n",
    "It should be noted that while there will be precise guidelines on how you should handle certain tasks in the project, there will also be places where an exact specification is not provided. **There will be times in the project where you will need to make and justify your own decisions on how to treat the data.** These are places where there may not be only one way to handle the data. In real-life tasks, there may be many valid ways to approach an analysis task. One of the most important things you can do is clearly document your approach so that other scientists can understand the decisions you've made.\n",
    "\n",
    "At the end of most sections, there will be a Markdown cell labeled **Discussion**. In these cells, you will report your findings for the completed section, as well as document the decisions that you made in your approach to each subtask. **Your project will be evaluated not just on the code used to complete the tasks outlined, but also your communication about your observations and conclusions at each stage.**"
   ]
  },
  {
   "cell_type": "code",
   "execution_count": 1,
   "metadata": {},
   "outputs": [],
   "source": [
    "# import libraries here; add more as necessary\n",
    "import numpy as np\n",
    "import pandas as pd\n",
    "import matplotlib.pyplot as plt\n",
    "import seaborn as sns\n",
    "from importlib import reload\n",
    "import helper\n",
    "reload(helper)\n",
    "from helper import clean_data\n",
    "\n",
    "# magic word for producing visualizations in notebook\n",
    "%matplotlib inline\n",
    "np.random.seed(0)"
   ]
  },
  {
   "cell_type": "markdown",
   "metadata": {},
   "source": [
    "### Step 0: Load the Data\n",
    "\n",
    "There are four files associated with this project (not including this one):\n",
    "\n",
    "- `Udacity_AZDIAS_Subset.csv`: Demographics data for the general population of Germany; 891211 persons (rows) x 85 features (columns).\n",
    "- `Udacity_CUSTOMERS_Subset.csv`: Demographics data for customers of a mail-order company; 191652 persons (rows) x 85 features (columns).\n",
    "- `Data_Dictionary.md`: Detailed information file about the features in the provided datasets.\n",
    "- `AZDIAS_Feature_Summary.csv`: Summary of feature attributes for demographics data; 85 features (rows) x 4 columns\n",
    "\n",
    "Each row of the demographics files represents a single person, but also includes information outside of individuals, including information about their household, building, and neighborhood. You will use this information to cluster the general population into groups with similar demographic properties. Then, you will see how the people in the customers dataset fit into those created clusters. The hope here is that certain clusters are over-represented in the customers data, as compared to the general population; those over-represented clusters will be assumed to be part of the core userbase. This information can then be used for further applications, such as targeting for a marketing campaign.\n",
    "\n",
    "To start off with, load in the demographics data for the general population into a pandas DataFrame, and do the same for the feature attributes summary. Note for all of the `.csv` data files in this project: they're semicolon (`;`) delimited, so you'll need an additional argument in your [`read_csv()`](https://pandas.pydata.org/pandas-docs/stable/generated/pandas.read_csv.html) call to read in the data properly. Also, considering the size of the main dataset, it may take some time for it to load completely.\n",
    "\n",
    "Once the dataset is loaded, it's recommended that you take a little bit of time just browsing the general structure of the dataset and feature summary file. You'll be getting deep into the innards of the cleaning in the first major step of the project, so gaining some general familiarity can help you get your bearings."
   ]
  },
  {
   "cell_type": "code",
   "execution_count": 2,
   "metadata": {},
   "outputs": [],
   "source": [
    "# Load in the general demographics data.\n",
    "azdias = pd.read_csv(\"Udacity_AZDIAS_Subset.csv\", delimiter=\";\")\n",
    "\n",
    "# Load in the feature summary file.\n",
    "feat_info = pd.read_csv(\"AZDIAS_Feature_Summary.csv\", delimiter=\";\")"
   ]
  },
  {
   "cell_type": "code",
   "execution_count": 3,
   "metadata": {},
   "outputs": [
    {
     "data": {
      "text/plain": [
       "(891221, 85)"
      ]
     },
     "execution_count": 3,
     "metadata": {},
     "output_type": "execute_result"
    }
   ],
   "source": [
    "# Check the structure of the data after it's loaded (e.g. print the number of\n",
    "# rows and columns, print the first few rows).\n",
    "\n",
    "azdias.shape"
   ]
  },
  {
   "cell_type": "markdown",
   "metadata": {},
   "source": [
    "> **Tip**: Add additional cells to keep everything in reasonably-sized chunks! Keyboard shortcut `esc --> a` (press escape to enter command mode, then press the 'A' key) adds a new cell before the active cell, and `esc --> b` adds a new cell after the active cell. If you need to convert an active cell to a markdown cell, use `esc --> m` and to convert to a code cell, use `esc --> y`. \n",
    "\n",
    "## Step 1: Preprocessing\n",
    "\n",
    "### Step 1.1: Assess Missing Data\n",
    "\n",
    "The feature summary file contains a summary of properties for each demographics data column. You will use this file to help you make cleaning decisions during this stage of the project. First of all, you should assess the demographics data in terms of missing data. Pay attention to the following points as you perform your analysis, and take notes on what you observe. Make sure that you fill in the **Discussion** cell with your findings and decisions at the end of each step that has one!\n",
    "\n",
    "#### Step 1.1.1: Convert Missing Value Codes to NaNs\n",
    "The fourth column of the feature attributes summary (loaded in above as `feat_info`) documents the codes from the data dictionary that indicate missing or unknown data. While the file encodes this as a list (e.g. `[-1,0]`), this will get read in as a string object. You'll need to do a little bit of parsing to make use of it to identify and clean the data. Convert data that matches a 'missing' or 'unknown' value code into a numpy NaN value. You might want to see how much data takes on a 'missing' or 'unknown' code, and how much data is naturally missing, as a point of interest.\n",
    "\n",
    "**As one more reminder, you are encouraged to add additional cells to break up your analysis into manageable chunks.**"
   ]
  },
  {
   "cell_type": "code",
   "execution_count": null,
   "metadata": {},
   "outputs": [],
   "source": [
    "# Identify missing or unknown data values and convert them to NaNs.\n",
    "\n"
   ]
  },
  {
   "cell_type": "markdown",
   "metadata": {},
   "source": [
    "#### Naturally Missing Data"
   ]
  },
  {
   "cell_type": "code",
   "execution_count": null,
   "metadata": {
    "scrolled": true
   },
   "outputs": [],
   "source": [
    "missingvalues = dict()\n",
    "for feature in feat_info[\"attribute\"]:\n",
    "    missingvalues[feature] = azdias[feature].isnull().sum()"
   ]
  },
  {
   "cell_type": "code",
   "execution_count": null,
   "metadata": {},
   "outputs": [],
   "source": [
    "df = pd.DataFrame(list(missingvalues.items()))\n",
    "df.columns =[\"Features\",\"Count\"]\n",
    "\n",
    "# sort df by Count column\n",
    "df = df.sort_values(by=[\"Count\"], ascending=False).reset_index(drop=True)"
   ]
  },
  {
   "cell_type": "code",
   "execution_count": null,
   "metadata": {},
   "outputs": [],
   "source": [
    "plt.figure(figsize=(10,20))\n",
    "scalar_points = [*range(len(df[\"Features\"].values))]\n",
    "plt.barh(scalar_points, df[\"Count\"].values)\n",
    "plt.yticks(scalar_points, df[\"Features\"].values)\n",
    "plt.xticks(np.arange(min(df[\"Count\"].values), max(df[\"Count\"].values)+1, 100000))\n",
    "plt.show()"
   ]
  },
  {
   "cell_type": "markdown",
   "metadata": {},
   "source": [
    "#### Converting missing values to NaNs"
   ]
  },
  {
   "cell_type": "code",
   "execution_count": 19,
   "metadata": {},
   "outputs": [],
   "source": [
    "missing_values = ['X', 'XX','-1','0', '9'] \n",
    "columns = feat_info['attribute'] \n",
    "list_missing_values_array = []\n",
    "\n",
    "for missing_value_array in feat_info['missing_or_unknown']: \n",
    "    new_missing_array = [] \n",
    "    for i in missing_values: \n",
    "        if i in missing_value_array and i not in ['X', 'XX']: \n",
    "            new_missing_array.append(int(i))\n",
    "        elif i in missing_value_array and i in ['X', 'XX']:\n",
    "            new_missing_array.append(i)\n",
    "    list_missing_values_array.append(new_missing_array)\n",
    "\n",
    "\n",
    "for index, row in feat_info.iterrows():\n",
    "    azdias[row[\"attribute\"]].replace(list_missing_values_array[index], \n",
    "                                     [np.NaN]*len(list_missing_values_array[index]), \n",
    "                                     inplace=True)"
   ]
  },
  {
   "cell_type": "code",
   "execution_count": null,
   "metadata": {},
   "outputs": [],
   "source": [
    "azdias = missing_to_nan(azdias)"
   ]
  },
  {
   "cell_type": "markdown",
   "metadata": {},
   "source": [
    "#### Step 1.1.2: Assess Missing Data in Each Column\n",
    "\n",
    "How much missing data is present in each column? There are a few columns that are outliers in terms of the proportion of values that are missing. You will want to use matplotlib's [`hist()`](https://matplotlib.org/api/_as_gen/matplotlib.pyplot.hist.html) function to visualize the distribution of missing value counts to find these columns. Identify and document these columns. While some of these columns might have justifications for keeping or re-encoding the data, for this project you should just remove them from the dataframe. (Feel free to make remarks about these outlier columns in the discussion, however!)\n",
    "\n",
    "For the remaining features, are there any patterns in which columns have, or share, missing data?"
   ]
  },
  {
   "cell_type": "code",
   "execution_count": null,
   "metadata": {},
   "outputs": [],
   "source": [
    "missingvalues = dict()\n",
    "for feature in feat_info[\"attribute\"]:\n",
    "    missingvalues[feature] = azdias[feature].isnull().sum()"
   ]
  },
  {
   "cell_type": "code",
   "execution_count": null,
   "metadata": {},
   "outputs": [],
   "source": [
    "df = pd.DataFrame(list(missingvalues.items()))\n",
    "df.columns =[\"Features\",\"Count\"]\n",
    "\n",
    "# sort df by Count column\n",
    "df = df.sort_values(by=[\"Count\"], ascending=False).reset_index(drop=True)"
   ]
  },
  {
   "cell_type": "code",
   "execution_count": null,
   "metadata": {},
   "outputs": [],
   "source": [
    "plt.figure(figsize=(10,20))\n",
    "scalar_points = [*range(len(df[\"Features\"].values))]\n",
    "plt.barh(scalar_points, df[\"Count\"].values)\n",
    "plt.yticks(scalar_points, df[\"Features\"].values)\n",
    "plt.xticks(np.arange(min(df[\"Count\"].values), max(df[\"Count\"].values)+1, 100000))\n",
    "plt.show()"
   ]
  },
  {
   "cell_type": "markdown",
   "metadata": {},
   "source": [
    "#### Removing the outlier columns (First 6 in this case)"
   ]
  },
  {
   "cell_type": "code",
   "execution_count": null,
   "metadata": {},
   "outputs": [],
   "source": [
    "# Number of samples remaining after dropping rows with at least one NA value in the original dataset\n",
    "azdias.shape[0] - azdias.dropna().shape[0]"
   ]
  },
  {
   "cell_type": "code",
   "execution_count": null,
   "metadata": {},
   "outputs": [],
   "source": [
    "azdias.shape"
   ]
  },
  {
   "cell_type": "code",
   "execution_count": null,
   "metadata": {},
   "outputs": [],
   "source": [
    "# Remove the outlier columns from the dataset. (You'll perform other data\n",
    "# engineering tasks such as re-encoding and imputation later.)\n",
    "\n",
    "azdias_dropped = azdias.drop(labels=df[\"Features\"][:6].values, axis=1)\n",
    "\n",
    "# Number of rows dropped after dropping outlier columns and dropping rows with at least one NA value\n",
    "azdias_dropped.shape[0] - azdias_dropped.dropna().shape[0]"
   ]
  },
  {
   "cell_type": "code",
   "execution_count": null,
   "metadata": {},
   "outputs": [],
   "source": [
    "df[\"Features\"][:6].values"
   ]
  },
  {
   "cell_type": "markdown",
   "metadata": {},
   "source": [
    "#### Discussion 1.1.2: Assess Missing Data in Each Column\n",
    "\n",
    "(Double click this cell and replace this text with your own text, reporting your observations regarding the amount of missing data in each column. Are there any patterns in missing values? Which columns were removed from the dataset?)\n",
    "\n",
    "Columns such as 'TITEL_KZ', 'AGER_TYP', 'KK_KUNDENTYP', 'KBA05_BAUMAX', 'GEBURTSJAHR', 'ALTER_HH' are clearly outliers in terms of proportion of missing data. \n",
    "\n",
    "There's a couple of groups of columns which share the same amount of missing data such as RR3 microcell features  which indicate the variance of number of families living in a building, in a microcell. Similarly, PLZ8 macrocell features share the same amount of missing data."
   ]
  },
  {
   "cell_type": "markdown",
   "metadata": {},
   "source": [
    "#### Step 1.1.3: Assess Missing Data in Each Row\n",
    "\n",
    "Now, you'll perform a similar assessment for the rows of the dataset. How much data is missing in each row? As with the columns, you should see some groups of points that have a very different numbers of missing values. Divide the data into two subsets: one for data points that are above some threshold for missing values, and a second subset for points below that threshold.\n",
    "\n",
    "In order to know what to do with the outlier rows, we should see if the distribution of data values on columns that are not missing data (or are missing very little data) are similar or different between the two groups. Select at least five of these columns and compare the distribution of values.\n",
    "- You can use seaborn's [`countplot()`](https://seaborn.pydata.org/generated/seaborn.countplot.html) function to create a bar chart of code frequencies and matplotlib's [`subplot()`](https://matplotlib.org/api/_as_gen/matplotlib.pyplot.subplot.html) function to put bar charts for the two subplots side by side.\n",
    "- To reduce repeated code, you might want to write a function that can perform this comparison, taking as one of its arguments a column to be compared.\n",
    "\n",
    "Depending on what you observe in your comparison, this will have implications on how you approach your conclusions later in the analysis. If the distributions of non-missing features look similar between the data with many missing values and the data with few or no missing values, then we could argue that simply dropping those points from the analysis won't present a major issue. On the other hand, if the data with many missing values looks very different from the data with few or no missing values, then we should make a note on those data as special. We'll revisit these data later on. **Either way, you should continue your analysis for now using just the subset of the data with few or no missing values.**"
   ]
  },
  {
   "cell_type": "code",
   "execution_count": null,
   "metadata": {},
   "outputs": [],
   "source": [
    "# How much data is missing in each row of the dataset?\n",
    "row_missing_values = azdias_dropped.isnull().sum(axis=1)\n",
    "\n",
    "df_row_mv = pd.DataFrame(list(row_missing_values.values))\n",
    "df_row_mv.columns =[\"Count_Row\"]\n",
    "\n",
    "# sort df by Count column\n",
    "df_row_mv = df_row_mv.sort_values(by=[\"Count_Row\"], ascending=False)"
   ]
  },
  {
   "cell_type": "code",
   "execution_count": null,
   "metadata": {},
   "outputs": [],
   "source": [
    "plt.hist(df_row_mv[\"Count_Row\"].values)"
   ]
  },
  {
   "cell_type": "code",
   "execution_count": null,
   "metadata": {},
   "outputs": [],
   "source": [
    "# Write code to divide the data into two subsets based on the number of missing\n",
    "# values in each row.\n",
    "\n",
    "azdias_mv_l20 = azdias_dropped.drop(df_row_mv[df_row_mv[\"Count_Row\"]>20].index)"
   ]
  },
  {
   "cell_type": "code",
   "execution_count": null,
   "metadata": {},
   "outputs": [],
   "source": [
    "azdias_mv_g20 = azdias_dropped.drop(df_row_mv[df_row_mv[\"Count_Row\"]<20].index)"
   ]
  },
  {
   "cell_type": "code",
   "execution_count": null,
   "metadata": {},
   "outputs": [],
   "source": [
    "# Compare the distribution of values for at least five columns where there are\n",
    "# no or few missing values, between the two subsets.\n",
    "# very_low_missing_values_features[-5:]\n",
    "\n",
    "# azdias_mv_g20 -> Rows which have more than 20 columns missing/NA\n",
    "# azdias_mv_l20 -> Rows which have less than 20 columns missing/NA\n",
    "print(azdias_mv_l20.shape)\n",
    "print(azdias_mv_g20.shape)"
   ]
  },
  {
   "cell_type": "code",
   "execution_count": null,
   "metadata": {},
   "outputs": [],
   "source": [
    "import random \n",
    "for i in random.sample(range(79), 5):\n",
    "    plt.figure(figsize=(8,6))\n",
    "    plt.subplot(1,2,1)\n",
    "    sns.countplot(x = azdias_mv_l20.columns[i], data = azdias_mv_l20)\n",
    "    plt.title('Less than 20 columns missing data')\n",
    "    \n",
    "    plt.subplot(1,2,2)\n",
    "    sns.countplot(x = azdias_mv_g20.columns[i], data = azdias_mv_g20)\n",
    "    plt.title('More than 20 columns missing data')"
   ]
  },
  {
   "cell_type": "markdown",
   "metadata": {},
   "source": [
    "#### Discussion 1.1.3: Assess Missing Data in Each Row\n",
    "\n",
    "(Double-click this cell and replace this text with your own text, reporting your observations regarding missing data in rows. Are the data with lots of missing values are qualitatively different from data with few or no missing values?)"
   ]
  },
  {
   "cell_type": "markdown",
   "metadata": {},
   "source": [
    "### Step 1.2: Select and Re-Encode Features\n",
    "\n",
    "Checking for missing data isn't the only way in which you can prepare a dataset for analysis. Since the unsupervised learning techniques to be used will only work on data that is encoded numerically, you need to make a few encoding changes or additional assumptions to be able to make progress. In addition, while almost all of the values in the dataset are encoded using numbers, not all of them represent numeric values. Check the third column of the feature summary (`feat_info`) for a summary of types of measurement.\n",
    "- For numeric and interval data, these features can be kept without changes.\n",
    "- Most of the variables in the dataset are ordinal in nature. While ordinal values may technically be non-linear in spacing, make the simplifying assumption that the ordinal variables can be treated as being interval in nature (that is, kept without any changes).\n",
    "- Special handling may be necessary for the remaining two variable types: categorical, and 'mixed'.\n",
    "\n",
    "In the first two parts of this sub-step, you will perform an investigation of the categorical and mixed-type features and make a decision on each of them, whether you will keep, drop, or re-encode each. Then, in the last part, you will create a new data frame with only the selected and engineered columns.\n",
    "\n",
    "Data wrangling is often the trickiest part of the data analysis process, and there's a lot of it to be done here. But stick with it: once you're done with this step, you'll be ready to get to the machine learning parts of the project!"
   ]
  },
  {
   "cell_type": "code",
   "execution_count": null,
   "metadata": {},
   "outputs": [],
   "source": [
    "# For further convenience\n",
    "azdias_cleaned = azdias_mv_l20"
   ]
  },
  {
   "cell_type": "code",
   "execution_count": null,
   "metadata": {},
   "outputs": [],
   "source": [
    "cleaned_features = azdias_cleaned.columns.values\n",
    "feat_info_cleaned = feat_info[feat_info['attribute'].isin(cleaned_features)]"
   ]
  },
  {
   "cell_type": "markdown",
   "metadata": {},
   "source": [
    "#### Number of features of each data type"
   ]
  },
  {
   "cell_type": "code",
   "execution_count": null,
   "metadata": {},
   "outputs": [],
   "source": [
    "type_counts = feat_info_cleaned['type'].value_counts()\n",
    "type_counts"
   ]
  },
  {
   "cell_type": "code",
   "execution_count": null,
   "metadata": {},
   "outputs": [],
   "source": [
    "plt.figure(figsize=(10, 5))\n",
    "scalar_points = [*range(len(feat_info_cleaned.groupby(\"type\").count().index.values))]\n",
    "plt.bar(scalar_points, feat_info_cleaned.groupby(\"type\").count()[\"attribute\"].values)\n",
    "plt.xticks(scalar_points, feat_info_cleaned.groupby(\"type\").count().index.values)\n",
    "plt.show()"
   ]
  },
  {
   "cell_type": "markdown",
   "metadata": {},
   "source": [
    "#### Step 1.2.1: Re-Encode Categorical Features\n",
    "\n",
    "For categorical data, you would ordinarily need to encode the levels as dummy variables. Depending on the number of categories, perform one of the following:\n",
    "- For binary (two-level) categoricals that take numeric values, you can keep them without needing to do anything.\n",
    "- There is one binary variable that takes on non-numeric values. For this one, you need to re-encode the values as numbers or create a dummy variable.\n",
    "- For multi-level categoricals (three or more values), you can choose to encode the values using multiple dummy variables (e.g. via [OneHotEncoder](http://scikit-learn.org/stable/modules/generated/sklearn.preprocessing.OneHotEncoder.html)), or (to keep things straightforward) just drop them from the analysis. As always, document your choices in the Discussion section."
   ]
  },
  {
   "cell_type": "markdown",
   "metadata": {},
   "source": [
    "#### Assess categorical variables: which are binary, which are multi-level, and which one needs to be re-encoded?\n",
    "\n"
   ]
  },
  {
   "cell_type": "code",
   "execution_count": null,
   "metadata": {},
   "outputs": [],
   "source": [
    "categoricals = list(feat_info_cleaned[feat_info_cleaned['type'] == 'categorical']['attribute'].values)\n",
    "categoricals"
   ]
  },
  {
   "cell_type": "code",
   "execution_count": null,
   "metadata": {},
   "outputs": [],
   "source": [
    "azdias_categoricals = azdias_cleaned[categoricals].apply(lambda x: print(x.name, ':', x.unique()))"
   ]
  },
  {
   "cell_type": "code",
   "execution_count": null,
   "metadata": {},
   "outputs": [],
   "source": [
    "multi_categorical = list()\n",
    "binary_categorical = list()\n",
    "for category in categoricals:\n",
    "    if len(azdias_cleaned[category].value_counts()) > 2:\n",
    "        multi_categorical.append(category)\n",
    "    else:\n",
    "        binary_categorical.append(category)"
   ]
  },
  {
   "cell_type": "code",
   "execution_count": null,
   "metadata": {},
   "outputs": [],
   "source": [
    "print(\"Multiple level categorical feature\\n\", multi_categorical)\n",
    "print(\"\\nTwo level categorical feature\\n\", binary_categorical)"
   ]
  },
  {
   "cell_type": "code",
   "execution_count": null,
   "metadata": {},
   "outputs": [],
   "source": [
    "binary_categorical.remove(\"GREEN_AVANTGARDE\")\n",
    "binary_categorical"
   ]
  },
  {
   "cell_type": "markdown",
   "metadata": {},
   "source": [
    "#### Dropping multiple level categorical features"
   ]
  },
  {
   "cell_type": "code",
   "execution_count": null,
   "metadata": {},
   "outputs": [],
   "source": [
    "azdias_cleaned.drop(multi_categorical, axis=1, inplace=True)\n",
    "azdias_cleaned.shape"
   ]
  },
  {
   "cell_type": "markdown",
   "metadata": {},
   "source": [
    "#### Handling 2-level categorical features"
   ]
  },
  {
   "cell_type": "code",
   "execution_count": null,
   "metadata": {},
   "outputs": [],
   "source": [
    "for feature in binary_categorical:\n",
    "    azdias_cleaned = pd.concat([azdias_cleaned.drop([feature], axis=1), \n",
    "                                pd.get_dummies(azdias_cleaned[feature], prefix=feature)], axis=1)"
   ]
  },
  {
   "cell_type": "code",
   "execution_count": null,
   "metadata": {},
   "outputs": [],
   "source": []
  },
  {
   "cell_type": "markdown",
   "metadata": {},
   "source": [
    "#### Discussion 1.2.1: Re-Encode Categorical Features\n",
    "\n",
    "(Double-click this cell and replace this text with your own text, reporting your findings and decisions regarding categorical features. Which ones did you keep, which did you drop, and what engineering steps did you perform?)\n",
    "\n",
    "For binary (two-level) categoricals that take numeric values, we can observe from above that \n",
    "ANREDE_KZ, GREEN_AVANTGARDE, SOHO_KZ, VERS_TYP are the features that satisfy the condition. Dummy variables are created for these features. \n",
    "\n",
    "GREEN_AVANTGARDE is already in a binary format and hence left untouched. \n",
    "\n",
    "The one binary variable that takes on non-numeric value is OST_WEST_KZ. It has been encoded into binary variables accordingly. \n",
    "\n",
    "All the other features, which have more than 2 levels are dropped for the sake of simplicity. Dummy variables on these features would make a very sparse matrix which won't be as useful for further analysis. "
   ]
  },
  {
   "cell_type": "markdown",
   "metadata": {},
   "source": [
    "#### Step 1.2.2: Engineer Mixed-Type Features\n",
    "\n",
    "There are a handful of features that are marked as \"mixed\" in the feature summary that require special treatment in order to be included in the analysis. There are two in particular that deserve attention; the handling of the rest are up to your own choices:\n",
    "- \"PRAEGENDE_JUGENDJAHRE\" combines information on three dimensions: generation by decade, movement (mainstream vs. avantgarde), and nation (east vs. west). While there aren't enough levels to disentangle east from west, you should create two new variables to capture the other two dimensions: an interval-type variable for decade, and a binary variable for movement.\n",
    "- \"CAMEO_INTL_2015\" combines information on two axes: wealth and life stage. Break up the two-digit codes by their 'tens'-place and 'ones'-place digits into two new ordinal variables (which, for the purposes of this project, is equivalent to just treating them as their raw numeric values).\n",
    "- If you decide to keep or engineer new features around the other mixed-type features, make sure you note your steps in the Discussion section.\n",
    "\n",
    "Be sure to check `Data_Dictionary.md` for the details needed to finish these tasks."
   ]
  },
  {
   "cell_type": "code",
   "execution_count": null,
   "metadata": {},
   "outputs": [],
   "source": [
    "mixed = list(feat_info_cleaned[feat_info_cleaned['type'] == 'mixed']['attribute'].values)\n",
    "mixed"
   ]
  },
  {
   "cell_type": "code",
   "execution_count": null,
   "metadata": {},
   "outputs": [],
   "source": [
    "azdias_mixed = azdias_cleaned_dummies[mixed].apply(lambda x: print(x.name, ':', x.unique()))"
   ]
  },
  {
   "cell_type": "code",
   "execution_count": null,
   "metadata": {},
   "outputs": [],
   "source": [
    "azdias_reengineered_PJ = process_PJ(azdias_cleaned)"
   ]
  },
  {
   "cell_type": "code",
   "execution_count": null,
   "metadata": {},
   "outputs": [],
   "source": [
    "azdias_reengineered_CI2015 = process_CI2015(azdias_reengineered_PJ)"
   ]
  },
  {
   "cell_type": "code",
   "execution_count": null,
   "metadata": {},
   "outputs": [],
   "source": [
    "azdias_reengineered_CI2015.drop([\"LP_LEBENSPHASE_FEIN\", \"LP_LEBENSPHASE_GROB\"], axis=1, inplace=True)"
   ]
  },
  {
   "cell_type": "markdown",
   "metadata": {},
   "source": [
    "#### Discussion 1.2.2: Engineer Mixed-Type Features\n",
    "\n",
    "There were 6 mixed-type features - \n",
    "* LP_LEBENSPHASE_FEIN\n",
    "* LP_LEBENSPHASE_GROB\n",
    "* PRAEGENDE_JUGENDJAHRE\n",
    "* WOHNLAGE\n",
    "* CAMEO_INTL_2015\n",
    "* PLZ8_BAUMAX\n",
    "\n",
    "LP_LEBENSPHASE_FEIN and LP_LEBENSPHASE_GROB primarily talk about **life stage** and **wealth**, which has been already taking care of by the new features we engineered from the CAMEO_INTL_2015 feature; and **age**, which has been covered by the ALTERSKATEGORIE_GROB feature. That's why I chose to drop them completely from further analysis.\n",
    "\n",
    "PRAEGENDE_JUGENDJAHRE is a mixed feature comprising of movement of person's youth and decades. These two variables were bifurcated into two separate features and the original feature was dropped.\n",
    "MOVEMENT_PRAEGENDE_JUGENDJAHRE is a binary-type variable with possible values of 0 for Mainstream and 1 for Avantgarde.\n",
    "DECADE_PRAEGENDE_JUGENDJAHRE is an interval-type variable with possible values as follows - \n",
    "[40s = 0, 50s = 1, 60s = 2, 70s = 3, 80s = 4, 90s = 5]\n",
    "\n",
    "Similarly, CAMEO_INTL_2015 comprised of two distinct features namely - wealth and life-stage. These were mapped into tens and units digits of the international code which were then separated into two ordinal features - WEALTH_CAMEO_INTL_2015 and LIFESTAGE_CAMEO_INTL_2015 - after dropping the original CAMEO_INTL_2015. "
   ]
  },
  {
   "cell_type": "markdown",
   "metadata": {},
   "source": [
    "#### Step 1.2.3: Complete Feature Selection\n",
    "\n",
    "In order to finish this step up, you need to make sure that your data frame now only has the columns that you want to keep. To summarize, the dataframe should consist of the following:\n",
    "- All numeric, interval, and ordinal type columns from the original dataset.\n",
    "- Binary categorical features (all numerically-encoded).\n",
    "- Engineered features from other multi-level categorical features and mixed features.\n",
    "\n",
    "Make sure that for any new columns that you have engineered, that you've excluded the original columns from the final dataset. Otherwise, their values will interfere with the analysis later on the project. For example, you should not keep \"PRAEGENDE_JUGENDJAHRE\", since its values won't be useful for the algorithm: only the values derived from it in the engineered features you created should be retained. As a reminder, your data should only be from **the subset with few or no missing values**."
   ]
  },
  {
   "cell_type": "code",
   "execution_count": null,
   "metadata": {},
   "outputs": [],
   "source": [
    "# If there are other re-engineering tasks you need to perform, make sure you\n",
    "# take care of them here. (Dealing with missing data will come in step 2.1.)\n",
    "\n",
    "azdias_mixed = azdias_reengineered_CI2015.apply(lambda x: print(x.name, ':', x.unique()))"
   ]
  },
  {
   "cell_type": "code",
   "execution_count": null,
   "metadata": {},
   "outputs": [],
   "source": [
    "# Do whatever you need to in order to ensure that the dataframe only contains\n",
    "# the columns that should be passed to the algorithm functions.\n",
    "azdias_reengineered_CI2015.shape"
   ]
  },
  {
   "cell_type": "code",
   "execution_count": null,
   "metadata": {},
   "outputs": [],
   "source": [
    "df.shape[0] - df.dropna(axis=0).shape[0]"
   ]
  },
  {
   "cell_type": "markdown",
   "metadata": {},
   "source": [
    "### Step 1.3: Create a Cleaning Function\n",
    "\n",
    "Even though you've finished cleaning up the general population demographics data, it's important to look ahead to the future and realize that you'll need to perform the same cleaning steps on the customer demographics data. In this substep, complete the function below to execute the main feature selection, encoding, and re-engineering steps you performed above. Then, when it comes to looking at the customer data in Step 3, you can just run this function on that DataFrame to get the trimmed dataset in a single step."
   ]
  },
  {
   "cell_type": "code",
   "execution_count": null,
   "metadata": {},
   "outputs": [],
   "source": [
    "def clean_data(df, feat_info, n):\n",
    "    \"\"\"\n",
    "    Perform feature trimming, re-encoding, and engineering for demographics\n",
    "    data\n",
    "    \n",
    "    INPUT: Demographics DataFrame\n",
    "    OUTPUT: Trimmed and cleaned demographics DataFrame\n",
    "    \"\"\"\n",
    "    \n",
    "    # Put in code here to execute all main cleaning steps:\n",
    "    # convert missing value codes into NaNs, ...\n",
    "    df = missing_to_nan(df)\n",
    "\n",
    "    # Drop the columns comprising the highest missing values\n",
    "    df = remove_columns(df, feat_info)\n",
    "    \n",
    "    # Drop the rows with more than 20 missing values\n",
    "    df = remove_rows(df, n)\n",
    "    \n",
    "    # Re-encode categorical features\n",
    "    df = reencode_categorical_features(df, feat_info)\n",
    "    \n",
    "    # Re-encode mixed features\n",
    "    df = process_PJ(df)\n",
    "    df = process_CI2015(df)\n",
    "    \n",
    "    # Remove unnecessary mixed features\n",
    "    df.drop([\"LP_LEBENSPHASE_FEIN\", \"LP_LEBENSPHASE_GROB\"], axis=1, inplace=True)\n",
    "    \n",
    "    # Return the cleaned dataframe.\n",
    "    return df\n",
    "    "
   ]
  },
  {
   "cell_type": "code",
   "execution_count": 4,
   "metadata": {},
   "outputs": [
    {
     "name": "stdout",
     "output_type": "stream",
     "text": [
      "93795 rows dropped.\n"
     ]
    }
   ],
   "source": [
    "df = clean_data(azdias, feat_info, 20)"
   ]
  },
  {
   "cell_type": "code",
   "execution_count": null,
   "metadata": {},
   "outputs": [],
   "source": [
    "df.equals(azdias_reengineered_CI2015)"
   ]
  },
  {
   "cell_type": "markdown",
   "metadata": {},
   "source": [
    "## Step 2: Feature Transformation\n",
    "\n",
    "### Step 2.1: Apply Feature Scaling\n",
    "\n",
    "Before we apply dimensionality reduction techniques to the data, we need to perform feature scaling so that the principal component vectors are not influenced by the natural differences in scale for features. Starting from this part of the project, you'll want to keep an eye on the [API reference page for sklearn](http://scikit-learn.org/stable/modules/classes.html) to help you navigate to all of the classes and functions that you'll need. In this substep, you'll need to check the following:\n",
    "\n",
    "- sklearn requires that data not have missing values in order for its estimators to work properly. So, before applying the scaler to your data, make sure that you've cleaned the DataFrame of the remaining missing values. This can be as simple as just removing all data points with missing data, or applying an [Imputer](http://scikit-learn.org/stable/modules/generated/sklearn.preprocessing.Imputer.html) to replace all missing values. You might also try a more complicated procedure where you temporarily remove missing values in order to compute the scaling parameters before re-introducing those missing values and applying imputation. Think about how much missing data you have and what possible effects each approach might have on your analysis, and justify your decision in the discussion section below.\n",
    "- For the actual scaling function, a [StandardScaler](http://scikit-learn.org/stable/modules/generated/sklearn.preprocessing.StandardScaler.html) instance is suggested, scaling each feature to mean 0 and standard deviation 1.\n",
    "- For these classes, you can make use of the `.fit_transform()` method to both fit a procedure to the data as well as apply the transformation to the data at the same time. Don't forget to keep the fit sklearn objects handy, since you'll be applying them to the customer demographics data towards the end of the project."
   ]
  },
  {
   "cell_type": "code",
   "execution_count": 5,
   "metadata": {},
   "outputs": [],
   "source": [
    "# If you've not yet cleaned the dataset of all NaN values, then investigate and\n",
    "# do that now.\n",
    "\n",
    "# Drop rows with NaN value\n",
    "from sklearn.preprocessing import Imputer\n",
    "\n",
    "# Initializer with default values: missing_values=’NaN’, strategy=’mean’, axis=0\n",
    "imputer = Imputer()\n",
    "df_imputed_array = imputer.fit_transform(df)\n",
    "df_imputed = pd.DataFrame(df_imputed_array, columns=df.columns.values)"
   ]
  },
  {
   "cell_type": "code",
   "execution_count": 6,
   "metadata": {},
   "outputs": [
    {
     "data": {
      "text/html": [
       "<div>\n",
       "<style scoped>\n",
       "    .dataframe tbody tr th:only-of-type {\n",
       "        vertical-align: middle;\n",
       "    }\n",
       "\n",
       "    .dataframe tbody tr th {\n",
       "        vertical-align: top;\n",
       "    }\n",
       "\n",
       "    .dataframe thead th {\n",
       "        text-align: right;\n",
       "    }\n",
       "</style>\n",
       "<table border=\"1\" class=\"dataframe\">\n",
       "  <thead>\n",
       "    <tr style=\"text-align: right;\">\n",
       "      <th></th>\n",
       "      <th>ALTERSKATEGORIE_GROB</th>\n",
       "      <th>FINANZ_MINIMALIST</th>\n",
       "      <th>FINANZ_SPARER</th>\n",
       "      <th>FINANZ_VORSORGER</th>\n",
       "      <th>FINANZ_ANLEGER</th>\n",
       "      <th>FINANZ_UNAUFFAELLIGER</th>\n",
       "      <th>FINANZ_HAUSBAUER</th>\n",
       "      <th>GREEN_AVANTGARDE</th>\n",
       "      <th>HEALTH_TYP</th>\n",
       "      <th>RETOURTYP_BK_S</th>\n",
       "      <th>...</th>\n",
       "      <th>SOHO_KZ_0.0</th>\n",
       "      <th>SOHO_KZ_1.0</th>\n",
       "      <th>VERS_TYP_1.0</th>\n",
       "      <th>VERS_TYP_2.0</th>\n",
       "      <th>OST_WEST_KZ_O</th>\n",
       "      <th>OST_WEST_KZ_W</th>\n",
       "      <th>MOVEMENT_PRAEGENDE_JUGENDJAHRE</th>\n",
       "      <th>DECADE_PRAEGENDE_JUGENDJAHRE</th>\n",
       "      <th>WEALTH_CAMEO_INTL_2015</th>\n",
       "      <th>LIFESTAGE_CAMEO_INTL_2015</th>\n",
       "    </tr>\n",
       "  </thead>\n",
       "  <tbody>\n",
       "    <tr>\n",
       "      <th>count</th>\n",
       "      <td>794642.000000</td>\n",
       "      <td>797426.000000</td>\n",
       "      <td>797426.000000</td>\n",
       "      <td>797426.000000</td>\n",
       "      <td>797426.000000</td>\n",
       "      <td>797426.000000</td>\n",
       "      <td>797426.000000</td>\n",
       "      <td>797426.000000</td>\n",
       "      <td>761009.000000</td>\n",
       "      <td>792792.000000</td>\n",
       "      <td>...</td>\n",
       "      <td>797426.000000</td>\n",
       "      <td>797426.000000</td>\n",
       "      <td>797426.000000</td>\n",
       "      <td>797426.000000</td>\n",
       "      <td>797426.000000</td>\n",
       "      <td>797426.000000</td>\n",
       "      <td>768968.000000</td>\n",
       "      <td>768968.000000</td>\n",
       "      <td>791423.000000</td>\n",
       "      <td>791423.000000</td>\n",
       "    </tr>\n",
       "    <tr>\n",
       "      <th>mean</th>\n",
       "      <td>2.795323</td>\n",
       "      <td>3.058918</td>\n",
       "      <td>2.715689</td>\n",
       "      <td>3.433056</td>\n",
       "      <td>2.840544</td>\n",
       "      <td>2.657258</td>\n",
       "      <td>3.115095</td>\n",
       "      <td>0.219666</td>\n",
       "      <td>2.199180</td>\n",
       "      <td>3.442797</td>\n",
       "      <td>...</td>\n",
       "      <td>0.991583</td>\n",
       "      <td>0.008417</td>\n",
       "      <td>0.460040</td>\n",
       "      <td>0.494292</td>\n",
       "      <td>0.211228</td>\n",
       "      <td>0.788772</td>\n",
       "      <td>0.227795</td>\n",
       "      <td>3.331947</td>\n",
       "      <td>3.262470</td>\n",
       "      <td>2.872962</td>\n",
       "    </tr>\n",
       "    <tr>\n",
       "      <th>std</th>\n",
       "      <td>1.018525</td>\n",
       "      <td>1.377564</td>\n",
       "      <td>1.485055</td>\n",
       "      <td>1.376977</td>\n",
       "      <td>1.472576</td>\n",
       "      <td>1.399161</td>\n",
       "      <td>1.407890</td>\n",
       "      <td>0.414020</td>\n",
       "      <td>0.755144</td>\n",
       "      <td>1.454499</td>\n",
       "      <td>...</td>\n",
       "      <td>0.091358</td>\n",
       "      <td>0.091358</td>\n",
       "      <td>0.498401</td>\n",
       "      <td>0.499968</td>\n",
       "      <td>0.408180</td>\n",
       "      <td>0.408180</td>\n",
       "      <td>0.419410</td>\n",
       "      <td>1.457422</td>\n",
       "      <td>1.464514</td>\n",
       "      <td>1.484862</td>\n",
       "    </tr>\n",
       "    <tr>\n",
       "      <th>min</th>\n",
       "      <td>1.000000</td>\n",
       "      <td>1.000000</td>\n",
       "      <td>1.000000</td>\n",
       "      <td>1.000000</td>\n",
       "      <td>1.000000</td>\n",
       "      <td>1.000000</td>\n",
       "      <td>1.000000</td>\n",
       "      <td>0.000000</td>\n",
       "      <td>1.000000</td>\n",
       "      <td>1.000000</td>\n",
       "      <td>...</td>\n",
       "      <td>0.000000</td>\n",
       "      <td>0.000000</td>\n",
       "      <td>0.000000</td>\n",
       "      <td>0.000000</td>\n",
       "      <td>0.000000</td>\n",
       "      <td>0.000000</td>\n",
       "      <td>0.000000</td>\n",
       "      <td>0.000000</td>\n",
       "      <td>1.000000</td>\n",
       "      <td>1.000000</td>\n",
       "    </tr>\n",
       "    <tr>\n",
       "      <th>25%</th>\n",
       "      <td>2.000000</td>\n",
       "      <td>2.000000</td>\n",
       "      <td>1.000000</td>\n",
       "      <td>2.000000</td>\n",
       "      <td>1.000000</td>\n",
       "      <td>1.000000</td>\n",
       "      <td>2.000000</td>\n",
       "      <td>0.000000</td>\n",
       "      <td>2.000000</td>\n",
       "      <td>2.000000</td>\n",
       "      <td>...</td>\n",
       "      <td>1.000000</td>\n",
       "      <td>0.000000</td>\n",
       "      <td>0.000000</td>\n",
       "      <td>0.000000</td>\n",
       "      <td>0.000000</td>\n",
       "      <td>1.000000</td>\n",
       "      <td>0.000000</td>\n",
       "      <td>2.000000</td>\n",
       "      <td>2.000000</td>\n",
       "      <td>1.000000</td>\n",
       "    </tr>\n",
       "    <tr>\n",
       "      <th>50%</th>\n",
       "      <td>3.000000</td>\n",
       "      <td>3.000000</td>\n",
       "      <td>3.000000</td>\n",
       "      <td>4.000000</td>\n",
       "      <td>3.000000</td>\n",
       "      <td>2.000000</td>\n",
       "      <td>3.000000</td>\n",
       "      <td>0.000000</td>\n",
       "      <td>2.000000</td>\n",
       "      <td>4.000000</td>\n",
       "      <td>...</td>\n",
       "      <td>1.000000</td>\n",
       "      <td>0.000000</td>\n",
       "      <td>0.000000</td>\n",
       "      <td>0.000000</td>\n",
       "      <td>0.000000</td>\n",
       "      <td>1.000000</td>\n",
       "      <td>0.000000</td>\n",
       "      <td>3.000000</td>\n",
       "      <td>4.000000</td>\n",
       "      <td>3.000000</td>\n",
       "    </tr>\n",
       "    <tr>\n",
       "      <th>75%</th>\n",
       "      <td>4.000000</td>\n",
       "      <td>4.000000</td>\n",
       "      <td>4.000000</td>\n",
       "      <td>5.000000</td>\n",
       "      <td>4.000000</td>\n",
       "      <td>4.000000</td>\n",
       "      <td>4.000000</td>\n",
       "      <td>0.000000</td>\n",
       "      <td>3.000000</td>\n",
       "      <td>5.000000</td>\n",
       "      <td>...</td>\n",
       "      <td>1.000000</td>\n",
       "      <td>0.000000</td>\n",
       "      <td>1.000000</td>\n",
       "      <td>1.000000</td>\n",
       "      <td>0.000000</td>\n",
       "      <td>1.000000</td>\n",
       "      <td>0.000000</td>\n",
       "      <td>5.000000</td>\n",
       "      <td>5.000000</td>\n",
       "      <td>4.000000</td>\n",
       "    </tr>\n",
       "    <tr>\n",
       "      <th>max</th>\n",
       "      <td>4.000000</td>\n",
       "      <td>5.000000</td>\n",
       "      <td>5.000000</td>\n",
       "      <td>5.000000</td>\n",
       "      <td>5.000000</td>\n",
       "      <td>5.000000</td>\n",
       "      <td>5.000000</td>\n",
       "      <td>1.000000</td>\n",
       "      <td>3.000000</td>\n",
       "      <td>5.000000</td>\n",
       "      <td>...</td>\n",
       "      <td>1.000000</td>\n",
       "      <td>1.000000</td>\n",
       "      <td>1.000000</td>\n",
       "      <td>1.000000</td>\n",
       "      <td>1.000000</td>\n",
       "      <td>1.000000</td>\n",
       "      <td>1.000000</td>\n",
       "      <td>5.000000</td>\n",
       "      <td>5.000000</td>\n",
       "      <td>5.000000</td>\n",
       "    </tr>\n",
       "  </tbody>\n",
       "</table>\n",
       "<p>8 rows × 70 columns</p>\n",
       "</div>"
      ],
      "text/plain": [
       "       ALTERSKATEGORIE_GROB  FINANZ_MINIMALIST  FINANZ_SPARER  \\\n",
       "count         794642.000000      797426.000000  797426.000000   \n",
       "mean               2.795323           3.058918       2.715689   \n",
       "std                1.018525           1.377564       1.485055   \n",
       "min                1.000000           1.000000       1.000000   \n",
       "25%                2.000000           2.000000       1.000000   \n",
       "50%                3.000000           3.000000       3.000000   \n",
       "75%                4.000000           4.000000       4.000000   \n",
       "max                4.000000           5.000000       5.000000   \n",
       "\n",
       "       FINANZ_VORSORGER  FINANZ_ANLEGER  FINANZ_UNAUFFAELLIGER  \\\n",
       "count     797426.000000   797426.000000          797426.000000   \n",
       "mean           3.433056        2.840544               2.657258   \n",
       "std            1.376977        1.472576               1.399161   \n",
       "min            1.000000        1.000000               1.000000   \n",
       "25%            2.000000        1.000000               1.000000   \n",
       "50%            4.000000        3.000000               2.000000   \n",
       "75%            5.000000        4.000000               4.000000   \n",
       "max            5.000000        5.000000               5.000000   \n",
       "\n",
       "       FINANZ_HAUSBAUER  GREEN_AVANTGARDE     HEALTH_TYP  RETOURTYP_BK_S  \\\n",
       "count     797426.000000     797426.000000  761009.000000   792792.000000   \n",
       "mean           3.115095          0.219666       2.199180        3.442797   \n",
       "std            1.407890          0.414020       0.755144        1.454499   \n",
       "min            1.000000          0.000000       1.000000        1.000000   \n",
       "25%            2.000000          0.000000       2.000000        2.000000   \n",
       "50%            3.000000          0.000000       2.000000        4.000000   \n",
       "75%            4.000000          0.000000       3.000000        5.000000   \n",
       "max            5.000000          1.000000       3.000000        5.000000   \n",
       "\n",
       "                 ...                SOHO_KZ_0.0    SOHO_KZ_1.0   VERS_TYP_1.0  \\\n",
       "count            ...              797426.000000  797426.000000  797426.000000   \n",
       "mean             ...                   0.991583       0.008417       0.460040   \n",
       "std              ...                   0.091358       0.091358       0.498401   \n",
       "min              ...                   0.000000       0.000000       0.000000   \n",
       "25%              ...                   1.000000       0.000000       0.000000   \n",
       "50%              ...                   1.000000       0.000000       0.000000   \n",
       "75%              ...                   1.000000       0.000000       1.000000   \n",
       "max              ...                   1.000000       1.000000       1.000000   \n",
       "\n",
       "        VERS_TYP_2.0  OST_WEST_KZ_O  OST_WEST_KZ_W  \\\n",
       "count  797426.000000  797426.000000  797426.000000   \n",
       "mean        0.494292       0.211228       0.788772   \n",
       "std         0.499968       0.408180       0.408180   \n",
       "min         0.000000       0.000000       0.000000   \n",
       "25%         0.000000       0.000000       1.000000   \n",
       "50%         0.000000       0.000000       1.000000   \n",
       "75%         1.000000       0.000000       1.000000   \n",
       "max         1.000000       1.000000       1.000000   \n",
       "\n",
       "       MOVEMENT_PRAEGENDE_JUGENDJAHRE  DECADE_PRAEGENDE_JUGENDJAHRE  \\\n",
       "count                   768968.000000                 768968.000000   \n",
       "mean                         0.227795                      3.331947   \n",
       "std                          0.419410                      1.457422   \n",
       "min                          0.000000                      0.000000   \n",
       "25%                          0.000000                      2.000000   \n",
       "50%                          0.000000                      3.000000   \n",
       "75%                          0.000000                      5.000000   \n",
       "max                          1.000000                      5.000000   \n",
       "\n",
       "       WEALTH_CAMEO_INTL_2015  LIFESTAGE_CAMEO_INTL_2015  \n",
       "count           791423.000000              791423.000000  \n",
       "mean                 3.262470                   2.872962  \n",
       "std                  1.464514                   1.484862  \n",
       "min                  1.000000                   1.000000  \n",
       "25%                  2.000000                   1.000000  \n",
       "50%                  4.000000                   3.000000  \n",
       "75%                  5.000000                   4.000000  \n",
       "max                  5.000000                   5.000000  \n",
       "\n",
       "[8 rows x 70 columns]"
      ]
     },
     "execution_count": 6,
     "metadata": {},
     "output_type": "execute_result"
    }
   ],
   "source": [
    "df.describe()"
   ]
  },
  {
   "cell_type": "code",
   "execution_count": 7,
   "metadata": {},
   "outputs": [
    {
     "data": {
      "text/html": [
       "<div>\n",
       "<style scoped>\n",
       "    .dataframe tbody tr th:only-of-type {\n",
       "        vertical-align: middle;\n",
       "    }\n",
       "\n",
       "    .dataframe tbody tr th {\n",
       "        vertical-align: top;\n",
       "    }\n",
       "\n",
       "    .dataframe thead th {\n",
       "        text-align: right;\n",
       "    }\n",
       "</style>\n",
       "<table border=\"1\" class=\"dataframe\">\n",
       "  <thead>\n",
       "    <tr style=\"text-align: right;\">\n",
       "      <th></th>\n",
       "      <th>ALTERSKATEGORIE_GROB</th>\n",
       "      <th>FINANZ_MINIMALIST</th>\n",
       "      <th>FINANZ_SPARER</th>\n",
       "      <th>FINANZ_VORSORGER</th>\n",
       "      <th>FINANZ_ANLEGER</th>\n",
       "      <th>FINANZ_UNAUFFAELLIGER</th>\n",
       "      <th>FINANZ_HAUSBAUER</th>\n",
       "      <th>GREEN_AVANTGARDE</th>\n",
       "      <th>HEALTH_TYP</th>\n",
       "      <th>RETOURTYP_BK_S</th>\n",
       "      <th>...</th>\n",
       "      <th>SOHO_KZ_0.0</th>\n",
       "      <th>SOHO_KZ_1.0</th>\n",
       "      <th>VERS_TYP_1.0</th>\n",
       "      <th>VERS_TYP_2.0</th>\n",
       "      <th>OST_WEST_KZ_O</th>\n",
       "      <th>OST_WEST_KZ_W</th>\n",
       "      <th>MOVEMENT_PRAEGENDE_JUGENDJAHRE</th>\n",
       "      <th>DECADE_PRAEGENDE_JUGENDJAHRE</th>\n",
       "      <th>WEALTH_CAMEO_INTL_2015</th>\n",
       "      <th>LIFESTAGE_CAMEO_INTL_2015</th>\n",
       "    </tr>\n",
       "  </thead>\n",
       "  <tbody>\n",
       "    <tr>\n",
       "      <th>count</th>\n",
       "      <td>797426.000000</td>\n",
       "      <td>797426.000000</td>\n",
       "      <td>797426.000000</td>\n",
       "      <td>797426.000000</td>\n",
       "      <td>797426.000000</td>\n",
       "      <td>797426.000000</td>\n",
       "      <td>797426.000000</td>\n",
       "      <td>797426.000000</td>\n",
       "      <td>797426.000000</td>\n",
       "      <td>797426.000000</td>\n",
       "      <td>...</td>\n",
       "      <td>797426.000000</td>\n",
       "      <td>797426.000000</td>\n",
       "      <td>797426.000000</td>\n",
       "      <td>797426.000000</td>\n",
       "      <td>797426.000000</td>\n",
       "      <td>797426.000000</td>\n",
       "      <td>797426.000000</td>\n",
       "      <td>797426.000000</td>\n",
       "      <td>797426.000000</td>\n",
       "      <td>797426.000000</td>\n",
       "    </tr>\n",
       "    <tr>\n",
       "      <th>mean</th>\n",
       "      <td>2.795323</td>\n",
       "      <td>3.058918</td>\n",
       "      <td>2.715689</td>\n",
       "      <td>3.433056</td>\n",
       "      <td>2.840544</td>\n",
       "      <td>2.657258</td>\n",
       "      <td>3.115095</td>\n",
       "      <td>0.219666</td>\n",
       "      <td>2.199180</td>\n",
       "      <td>3.442797</td>\n",
       "      <td>...</td>\n",
       "      <td>0.991583</td>\n",
       "      <td>0.008417</td>\n",
       "      <td>0.460040</td>\n",
       "      <td>0.494292</td>\n",
       "      <td>0.211228</td>\n",
       "      <td>0.788772</td>\n",
       "      <td>0.227795</td>\n",
       "      <td>3.331947</td>\n",
       "      <td>3.262470</td>\n",
       "      <td>2.872962</td>\n",
       "    </tr>\n",
       "    <tr>\n",
       "      <th>std</th>\n",
       "      <td>1.016746</td>\n",
       "      <td>1.377564</td>\n",
       "      <td>1.485055</td>\n",
       "      <td>1.376977</td>\n",
       "      <td>1.472576</td>\n",
       "      <td>1.399161</td>\n",
       "      <td>1.407890</td>\n",
       "      <td>0.414020</td>\n",
       "      <td>0.737699</td>\n",
       "      <td>1.450266</td>\n",
       "      <td>...</td>\n",
       "      <td>0.091358</td>\n",
       "      <td>0.091358</td>\n",
       "      <td>0.498401</td>\n",
       "      <td>0.499968</td>\n",
       "      <td>0.408180</td>\n",
       "      <td>0.408180</td>\n",
       "      <td>0.411858</td>\n",
       "      <td>1.431180</td>\n",
       "      <td>1.458991</td>\n",
       "      <td>1.479262</td>\n",
       "    </tr>\n",
       "    <tr>\n",
       "      <th>min</th>\n",
       "      <td>1.000000</td>\n",
       "      <td>1.000000</td>\n",
       "      <td>1.000000</td>\n",
       "      <td>1.000000</td>\n",
       "      <td>1.000000</td>\n",
       "      <td>1.000000</td>\n",
       "      <td>1.000000</td>\n",
       "      <td>0.000000</td>\n",
       "      <td>1.000000</td>\n",
       "      <td>1.000000</td>\n",
       "      <td>...</td>\n",
       "      <td>0.000000</td>\n",
       "      <td>0.000000</td>\n",
       "      <td>0.000000</td>\n",
       "      <td>0.000000</td>\n",
       "      <td>0.000000</td>\n",
       "      <td>0.000000</td>\n",
       "      <td>0.000000</td>\n",
       "      <td>0.000000</td>\n",
       "      <td>1.000000</td>\n",
       "      <td>1.000000</td>\n",
       "    </tr>\n",
       "    <tr>\n",
       "      <th>25%</th>\n",
       "      <td>2.000000</td>\n",
       "      <td>2.000000</td>\n",
       "      <td>1.000000</td>\n",
       "      <td>2.000000</td>\n",
       "      <td>1.000000</td>\n",
       "      <td>1.000000</td>\n",
       "      <td>2.000000</td>\n",
       "      <td>0.000000</td>\n",
       "      <td>2.000000</td>\n",
       "      <td>2.000000</td>\n",
       "      <td>...</td>\n",
       "      <td>1.000000</td>\n",
       "      <td>0.000000</td>\n",
       "      <td>0.000000</td>\n",
       "      <td>0.000000</td>\n",
       "      <td>0.000000</td>\n",
       "      <td>1.000000</td>\n",
       "      <td>0.000000</td>\n",
       "      <td>2.000000</td>\n",
       "      <td>2.000000</td>\n",
       "      <td>1.000000</td>\n",
       "    </tr>\n",
       "    <tr>\n",
       "      <th>50%</th>\n",
       "      <td>3.000000</td>\n",
       "      <td>3.000000</td>\n",
       "      <td>3.000000</td>\n",
       "      <td>4.000000</td>\n",
       "      <td>3.000000</td>\n",
       "      <td>2.000000</td>\n",
       "      <td>3.000000</td>\n",
       "      <td>0.000000</td>\n",
       "      <td>2.000000</td>\n",
       "      <td>4.000000</td>\n",
       "      <td>...</td>\n",
       "      <td>1.000000</td>\n",
       "      <td>0.000000</td>\n",
       "      <td>0.000000</td>\n",
       "      <td>0.000000</td>\n",
       "      <td>0.000000</td>\n",
       "      <td>1.000000</td>\n",
       "      <td>0.000000</td>\n",
       "      <td>3.331947</td>\n",
       "      <td>4.000000</td>\n",
       "      <td>3.000000</td>\n",
       "    </tr>\n",
       "    <tr>\n",
       "      <th>75%</th>\n",
       "      <td>4.000000</td>\n",
       "      <td>4.000000</td>\n",
       "      <td>4.000000</td>\n",
       "      <td>5.000000</td>\n",
       "      <td>4.000000</td>\n",
       "      <td>4.000000</td>\n",
       "      <td>4.000000</td>\n",
       "      <td>0.000000</td>\n",
       "      <td>3.000000</td>\n",
       "      <td>5.000000</td>\n",
       "      <td>...</td>\n",
       "      <td>1.000000</td>\n",
       "      <td>0.000000</td>\n",
       "      <td>1.000000</td>\n",
       "      <td>1.000000</td>\n",
       "      <td>0.000000</td>\n",
       "      <td>1.000000</td>\n",
       "      <td>0.227795</td>\n",
       "      <td>5.000000</td>\n",
       "      <td>5.000000</td>\n",
       "      <td>4.000000</td>\n",
       "    </tr>\n",
       "    <tr>\n",
       "      <th>max</th>\n",
       "      <td>4.000000</td>\n",
       "      <td>5.000000</td>\n",
       "      <td>5.000000</td>\n",
       "      <td>5.000000</td>\n",
       "      <td>5.000000</td>\n",
       "      <td>5.000000</td>\n",
       "      <td>5.000000</td>\n",
       "      <td>1.000000</td>\n",
       "      <td>3.000000</td>\n",
       "      <td>5.000000</td>\n",
       "      <td>...</td>\n",
       "      <td>1.000000</td>\n",
       "      <td>1.000000</td>\n",
       "      <td>1.000000</td>\n",
       "      <td>1.000000</td>\n",
       "      <td>1.000000</td>\n",
       "      <td>1.000000</td>\n",
       "      <td>1.000000</td>\n",
       "      <td>5.000000</td>\n",
       "      <td>5.000000</td>\n",
       "      <td>5.000000</td>\n",
       "    </tr>\n",
       "  </tbody>\n",
       "</table>\n",
       "<p>8 rows × 70 columns</p>\n",
       "</div>"
      ],
      "text/plain": [
       "       ALTERSKATEGORIE_GROB  FINANZ_MINIMALIST  FINANZ_SPARER  \\\n",
       "count         797426.000000      797426.000000  797426.000000   \n",
       "mean               2.795323           3.058918       2.715689   \n",
       "std                1.016746           1.377564       1.485055   \n",
       "min                1.000000           1.000000       1.000000   \n",
       "25%                2.000000           2.000000       1.000000   \n",
       "50%                3.000000           3.000000       3.000000   \n",
       "75%                4.000000           4.000000       4.000000   \n",
       "max                4.000000           5.000000       5.000000   \n",
       "\n",
       "       FINANZ_VORSORGER  FINANZ_ANLEGER  FINANZ_UNAUFFAELLIGER  \\\n",
       "count     797426.000000   797426.000000          797426.000000   \n",
       "mean           3.433056        2.840544               2.657258   \n",
       "std            1.376977        1.472576               1.399161   \n",
       "min            1.000000        1.000000               1.000000   \n",
       "25%            2.000000        1.000000               1.000000   \n",
       "50%            4.000000        3.000000               2.000000   \n",
       "75%            5.000000        4.000000               4.000000   \n",
       "max            5.000000        5.000000               5.000000   \n",
       "\n",
       "       FINANZ_HAUSBAUER  GREEN_AVANTGARDE     HEALTH_TYP  RETOURTYP_BK_S  \\\n",
       "count     797426.000000     797426.000000  797426.000000   797426.000000   \n",
       "mean           3.115095          0.219666       2.199180        3.442797   \n",
       "std            1.407890          0.414020       0.737699        1.450266   \n",
       "min            1.000000          0.000000       1.000000        1.000000   \n",
       "25%            2.000000          0.000000       2.000000        2.000000   \n",
       "50%            3.000000          0.000000       2.000000        4.000000   \n",
       "75%            4.000000          0.000000       3.000000        5.000000   \n",
       "max            5.000000          1.000000       3.000000        5.000000   \n",
       "\n",
       "                 ...                SOHO_KZ_0.0    SOHO_KZ_1.0   VERS_TYP_1.0  \\\n",
       "count            ...              797426.000000  797426.000000  797426.000000   \n",
       "mean             ...                   0.991583       0.008417       0.460040   \n",
       "std              ...                   0.091358       0.091358       0.498401   \n",
       "min              ...                   0.000000       0.000000       0.000000   \n",
       "25%              ...                   1.000000       0.000000       0.000000   \n",
       "50%              ...                   1.000000       0.000000       0.000000   \n",
       "75%              ...                   1.000000       0.000000       1.000000   \n",
       "max              ...                   1.000000       1.000000       1.000000   \n",
       "\n",
       "        VERS_TYP_2.0  OST_WEST_KZ_O  OST_WEST_KZ_W  \\\n",
       "count  797426.000000  797426.000000  797426.000000   \n",
       "mean        0.494292       0.211228       0.788772   \n",
       "std         0.499968       0.408180       0.408180   \n",
       "min         0.000000       0.000000       0.000000   \n",
       "25%         0.000000       0.000000       1.000000   \n",
       "50%         0.000000       0.000000       1.000000   \n",
       "75%         1.000000       0.000000       1.000000   \n",
       "max         1.000000       1.000000       1.000000   \n",
       "\n",
       "       MOVEMENT_PRAEGENDE_JUGENDJAHRE  DECADE_PRAEGENDE_JUGENDJAHRE  \\\n",
       "count                   797426.000000                 797426.000000   \n",
       "mean                         0.227795                      3.331947   \n",
       "std                          0.411858                      1.431180   \n",
       "min                          0.000000                      0.000000   \n",
       "25%                          0.000000                      2.000000   \n",
       "50%                          0.000000                      3.331947   \n",
       "75%                          0.227795                      5.000000   \n",
       "max                          1.000000                      5.000000   \n",
       "\n",
       "       WEALTH_CAMEO_INTL_2015  LIFESTAGE_CAMEO_INTL_2015  \n",
       "count           797426.000000              797426.000000  \n",
       "mean                 3.262470                   2.872962  \n",
       "std                  1.458991                   1.479262  \n",
       "min                  1.000000                   1.000000  \n",
       "25%                  2.000000                   1.000000  \n",
       "50%                  4.000000                   3.000000  \n",
       "75%                  5.000000                   4.000000  \n",
       "max                  5.000000                   5.000000  \n",
       "\n",
       "[8 rows x 70 columns]"
      ]
     },
     "execution_count": 7,
     "metadata": {},
     "output_type": "execute_result"
    }
   ],
   "source": [
    "df_imputed.describe()"
   ]
  },
  {
   "cell_type": "code",
   "execution_count": 8,
   "metadata": {},
   "outputs": [
    {
     "data": {
      "text/html": [
       "<div>\n",
       "<style scoped>\n",
       "    .dataframe tbody tr th:only-of-type {\n",
       "        vertical-align: middle;\n",
       "    }\n",
       "\n",
       "    .dataframe tbody tr th {\n",
       "        vertical-align: top;\n",
       "    }\n",
       "\n",
       "    .dataframe thead th {\n",
       "        text-align: right;\n",
       "    }\n",
       "</style>\n",
       "<table border=\"1\" class=\"dataframe\">\n",
       "  <thead>\n",
       "    <tr style=\"text-align: right;\">\n",
       "      <th></th>\n",
       "      <th>ALTERSKATEGORIE_GROB</th>\n",
       "      <th>FINANZ_MINIMALIST</th>\n",
       "      <th>FINANZ_SPARER</th>\n",
       "      <th>FINANZ_VORSORGER</th>\n",
       "      <th>FINANZ_ANLEGER</th>\n",
       "      <th>FINANZ_UNAUFFAELLIGER</th>\n",
       "      <th>FINANZ_HAUSBAUER</th>\n",
       "      <th>GREEN_AVANTGARDE</th>\n",
       "      <th>HEALTH_TYP</th>\n",
       "      <th>RETOURTYP_BK_S</th>\n",
       "      <th>...</th>\n",
       "      <th>SOHO_KZ_0.0</th>\n",
       "      <th>SOHO_KZ_1.0</th>\n",
       "      <th>VERS_TYP_1.0</th>\n",
       "      <th>VERS_TYP_2.0</th>\n",
       "      <th>OST_WEST_KZ_O</th>\n",
       "      <th>OST_WEST_KZ_W</th>\n",
       "      <th>MOVEMENT_PRAEGENDE_JUGENDJAHRE</th>\n",
       "      <th>DECADE_PRAEGENDE_JUGENDJAHRE</th>\n",
       "      <th>WEALTH_CAMEO_INTL_2015</th>\n",
       "      <th>LIFESTAGE_CAMEO_INTL_2015</th>\n",
       "    </tr>\n",
       "  </thead>\n",
       "  <tbody>\n",
       "    <tr>\n",
       "      <th>count</th>\n",
       "      <td>7.974260e+05</td>\n",
       "      <td>7.974260e+05</td>\n",
       "      <td>7.974260e+05</td>\n",
       "      <td>7.974260e+05</td>\n",
       "      <td>7.974260e+05</td>\n",
       "      <td>7.974260e+05</td>\n",
       "      <td>7.974260e+05</td>\n",
       "      <td>7.974260e+05</td>\n",
       "      <td>7.974260e+05</td>\n",
       "      <td>7.974260e+05</td>\n",
       "      <td>...</td>\n",
       "      <td>7.974260e+05</td>\n",
       "      <td>7.974260e+05</td>\n",
       "      <td>7.974260e+05</td>\n",
       "      <td>7.974260e+05</td>\n",
       "      <td>7.974260e+05</td>\n",
       "      <td>7.974260e+05</td>\n",
       "      <td>7.974260e+05</td>\n",
       "      <td>7.974260e+05</td>\n",
       "      <td>7.974260e+05</td>\n",
       "      <td>7.974260e+05</td>\n",
       "    </tr>\n",
       "    <tr>\n",
       "      <th>mean</th>\n",
       "      <td>-6.034159e-16</td>\n",
       "      <td>1.346548e-16</td>\n",
       "      <td>-8.425725e-17</td>\n",
       "      <td>-3.776250e-17</td>\n",
       "      <td>-9.630418e-17</td>\n",
       "      <td>1.835286e-16</td>\n",
       "      <td>-8.126334e-17</td>\n",
       "      <td>-1.561111e-17</td>\n",
       "      <td>-1.496867e-16</td>\n",
       "      <td>-2.551954e-17</td>\n",
       "      <td>...</td>\n",
       "      <td>-4.511897e-16</td>\n",
       "      <td>-1.067472e-17</td>\n",
       "      <td>6.364737e-17</td>\n",
       "      <td>-1.016861e-16</td>\n",
       "      <td>-7.128363e-18</td>\n",
       "      <td>1.304490e-16</td>\n",
       "      <td>1.295045e-16</td>\n",
       "      <td>3.846643e-16</td>\n",
       "      <td>-3.277443e-16</td>\n",
       "      <td>-3.989923e-16</td>\n",
       "    </tr>\n",
       "    <tr>\n",
       "      <th>std</th>\n",
       "      <td>1.000001e+00</td>\n",
       "      <td>1.000001e+00</td>\n",
       "      <td>1.000001e+00</td>\n",
       "      <td>1.000001e+00</td>\n",
       "      <td>1.000001e+00</td>\n",
       "      <td>1.000001e+00</td>\n",
       "      <td>1.000001e+00</td>\n",
       "      <td>1.000001e+00</td>\n",
       "      <td>1.000001e+00</td>\n",
       "      <td>1.000001e+00</td>\n",
       "      <td>...</td>\n",
       "      <td>1.000001e+00</td>\n",
       "      <td>1.000001e+00</td>\n",
       "      <td>1.000001e+00</td>\n",
       "      <td>1.000001e+00</td>\n",
       "      <td>1.000001e+00</td>\n",
       "      <td>1.000001e+00</td>\n",
       "      <td>1.000001e+00</td>\n",
       "      <td>1.000001e+00</td>\n",
       "      <td>1.000001e+00</td>\n",
       "      <td>1.000001e+00</td>\n",
       "    </tr>\n",
       "    <tr>\n",
       "      <th>min</th>\n",
       "      <td>-1.765755e+00</td>\n",
       "      <td>-1.494609e+00</td>\n",
       "      <td>-1.155304e+00</td>\n",
       "      <td>-1.766955e+00</td>\n",
       "      <td>-1.249881e+00</td>\n",
       "      <td>-1.184467e+00</td>\n",
       "      <td>-1.502317e+00</td>\n",
       "      <td>-5.305674e-01</td>\n",
       "      <td>-1.625569e+00</td>\n",
       "      <td>-1.684379e+00</td>\n",
       "      <td>...</td>\n",
       "      <td>-1.085385e+01</td>\n",
       "      <td>-9.213322e-02</td>\n",
       "      <td>-9.230329e-01</td>\n",
       "      <td>-9.886477e-01</td>\n",
       "      <td>-5.174882e-01</td>\n",
       "      <td>-1.932411e+00</td>\n",
       "      <td>-5.530912e-01</td>\n",
       "      <td>-2.328113e+00</td>\n",
       "      <td>-1.550709e+00</td>\n",
       "      <td>-1.266147e+00</td>\n",
       "    </tr>\n",
       "    <tr>\n",
       "      <th>25%</th>\n",
       "      <td>-7.822246e-01</td>\n",
       "      <td>-7.686897e-01</td>\n",
       "      <td>-1.155304e+00</td>\n",
       "      <td>-1.040726e+00</td>\n",
       "      <td>-1.249881e+00</td>\n",
       "      <td>-1.184467e+00</td>\n",
       "      <td>-7.920337e-01</td>\n",
       "      <td>-5.305674e-01</td>\n",
       "      <td>-2.700023e-01</td>\n",
       "      <td>-9.948504e-01</td>\n",
       "      <td>...</td>\n",
       "      <td>9.213322e-02</td>\n",
       "      <td>-9.213322e-02</td>\n",
       "      <td>-9.230329e-01</td>\n",
       "      <td>-9.886477e-01</td>\n",
       "      <td>-5.174882e-01</td>\n",
       "      <td>5.174882e-01</td>\n",
       "      <td>-5.530912e-01</td>\n",
       "      <td>-9.306643e-01</td>\n",
       "      <td>-8.653040e-01</td>\n",
       "      <td>-1.266147e+00</td>\n",
       "    </tr>\n",
       "    <tr>\n",
       "      <th>50%</th>\n",
       "      <td>2.013062e-01</td>\n",
       "      <td>-4.276997e-02</td>\n",
       "      <td>1.914482e-01</td>\n",
       "      <td>4.117312e-01</td>\n",
       "      <td>1.082835e-01</td>\n",
       "      <td>-4.697522e-01</td>\n",
       "      <td>-8.175029e-02</td>\n",
       "      <td>-5.305674e-01</td>\n",
       "      <td>-2.700023e-01</td>\n",
       "      <td>3.842076e-01</td>\n",
       "      <td>...</td>\n",
       "      <td>9.213322e-02</td>\n",
       "      <td>-9.213322e-02</td>\n",
       "      <td>-9.230329e-01</td>\n",
       "      <td>-9.886477e-01</td>\n",
       "      <td>-5.174882e-01</td>\n",
       "      <td>5.174882e-01</td>\n",
       "      <td>-5.530912e-01</td>\n",
       "      <td>3.102960e-16</td>\n",
       "      <td>5.055069e-01</td>\n",
       "      <td>8.587953e-02</td>\n",
       "    </tr>\n",
       "    <tr>\n",
       "      <th>75%</th>\n",
       "      <td>1.184837e+00</td>\n",
       "      <td>6.831497e-01</td>\n",
       "      <td>8.648242e-01</td>\n",
       "      <td>1.137960e+00</td>\n",
       "      <td>7.873659e-01</td>\n",
       "      <td>9.596769e-01</td>\n",
       "      <td>6.285331e-01</td>\n",
       "      <td>-5.305674e-01</td>\n",
       "      <td>1.085565e+00</td>\n",
       "      <td>1.073737e+00</td>\n",
       "      <td>...</td>\n",
       "      <td>9.213322e-02</td>\n",
       "      <td>-9.213322e-02</td>\n",
       "      <td>1.083385e+00</td>\n",
       "      <td>1.011483e+00</td>\n",
       "      <td>-5.174882e-01</td>\n",
       "      <td>5.174882e-01</td>\n",
       "      <td>2.021735e-16</td>\n",
       "      <td>1.165509e+00</td>\n",
       "      <td>1.190912e+00</td>\n",
       "      <td>7.618927e-01</td>\n",
       "    </tr>\n",
       "    <tr>\n",
       "      <th>max</th>\n",
       "      <td>1.184837e+00</td>\n",
       "      <td>1.409069e+00</td>\n",
       "      <td>1.538200e+00</td>\n",
       "      <td>1.137960e+00</td>\n",
       "      <td>1.466448e+00</td>\n",
       "      <td>1.674391e+00</td>\n",
       "      <td>1.338816e+00</td>\n",
       "      <td>1.884775e+00</td>\n",
       "      <td>1.085565e+00</td>\n",
       "      <td>1.073737e+00</td>\n",
       "      <td>...</td>\n",
       "      <td>9.213322e-02</td>\n",
       "      <td>1.085385e+01</td>\n",
       "      <td>1.083385e+00</td>\n",
       "      <td>1.011483e+00</td>\n",
       "      <td>1.932411e+00</td>\n",
       "      <td>5.174882e-01</td>\n",
       "      <td>1.874931e+00</td>\n",
       "      <td>1.165509e+00</td>\n",
       "      <td>1.190912e+00</td>\n",
       "      <td>1.437906e+00</td>\n",
       "    </tr>\n",
       "  </tbody>\n",
       "</table>\n",
       "<p>8 rows × 70 columns</p>\n",
       "</div>"
      ],
      "text/plain": [
       "       ALTERSKATEGORIE_GROB  FINANZ_MINIMALIST  FINANZ_SPARER  \\\n",
       "count          7.974260e+05       7.974260e+05   7.974260e+05   \n",
       "mean          -6.034159e-16       1.346548e-16  -8.425725e-17   \n",
       "std            1.000001e+00       1.000001e+00   1.000001e+00   \n",
       "min           -1.765755e+00      -1.494609e+00  -1.155304e+00   \n",
       "25%           -7.822246e-01      -7.686897e-01  -1.155304e+00   \n",
       "50%            2.013062e-01      -4.276997e-02   1.914482e-01   \n",
       "75%            1.184837e+00       6.831497e-01   8.648242e-01   \n",
       "max            1.184837e+00       1.409069e+00   1.538200e+00   \n",
       "\n",
       "       FINANZ_VORSORGER  FINANZ_ANLEGER  FINANZ_UNAUFFAELLIGER  \\\n",
       "count      7.974260e+05    7.974260e+05           7.974260e+05   \n",
       "mean      -3.776250e-17   -9.630418e-17           1.835286e-16   \n",
       "std        1.000001e+00    1.000001e+00           1.000001e+00   \n",
       "min       -1.766955e+00   -1.249881e+00          -1.184467e+00   \n",
       "25%       -1.040726e+00   -1.249881e+00          -1.184467e+00   \n",
       "50%        4.117312e-01    1.082835e-01          -4.697522e-01   \n",
       "75%        1.137960e+00    7.873659e-01           9.596769e-01   \n",
       "max        1.137960e+00    1.466448e+00           1.674391e+00   \n",
       "\n",
       "       FINANZ_HAUSBAUER  GREEN_AVANTGARDE    HEALTH_TYP  RETOURTYP_BK_S  \\\n",
       "count      7.974260e+05      7.974260e+05  7.974260e+05    7.974260e+05   \n",
       "mean      -8.126334e-17     -1.561111e-17 -1.496867e-16   -2.551954e-17   \n",
       "std        1.000001e+00      1.000001e+00  1.000001e+00    1.000001e+00   \n",
       "min       -1.502317e+00     -5.305674e-01 -1.625569e+00   -1.684379e+00   \n",
       "25%       -7.920337e-01     -5.305674e-01 -2.700023e-01   -9.948504e-01   \n",
       "50%       -8.175029e-02     -5.305674e-01 -2.700023e-01    3.842076e-01   \n",
       "75%        6.285331e-01     -5.305674e-01  1.085565e+00    1.073737e+00   \n",
       "max        1.338816e+00      1.884775e+00  1.085565e+00    1.073737e+00   \n",
       "\n",
       "                 ...               SOHO_KZ_0.0   SOHO_KZ_1.0  VERS_TYP_1.0  \\\n",
       "count            ...              7.974260e+05  7.974260e+05  7.974260e+05   \n",
       "mean             ...             -4.511897e-16 -1.067472e-17  6.364737e-17   \n",
       "std              ...              1.000001e+00  1.000001e+00  1.000001e+00   \n",
       "min              ...             -1.085385e+01 -9.213322e-02 -9.230329e-01   \n",
       "25%              ...              9.213322e-02 -9.213322e-02 -9.230329e-01   \n",
       "50%              ...              9.213322e-02 -9.213322e-02 -9.230329e-01   \n",
       "75%              ...              9.213322e-02 -9.213322e-02  1.083385e+00   \n",
       "max              ...              9.213322e-02  1.085385e+01  1.083385e+00   \n",
       "\n",
       "       VERS_TYP_2.0  OST_WEST_KZ_O  OST_WEST_KZ_W  \\\n",
       "count  7.974260e+05   7.974260e+05   7.974260e+05   \n",
       "mean  -1.016861e-16  -7.128363e-18   1.304490e-16   \n",
       "std    1.000001e+00   1.000001e+00   1.000001e+00   \n",
       "min   -9.886477e-01  -5.174882e-01  -1.932411e+00   \n",
       "25%   -9.886477e-01  -5.174882e-01   5.174882e-01   \n",
       "50%   -9.886477e-01  -5.174882e-01   5.174882e-01   \n",
       "75%    1.011483e+00  -5.174882e-01   5.174882e-01   \n",
       "max    1.011483e+00   1.932411e+00   5.174882e-01   \n",
       "\n",
       "       MOVEMENT_PRAEGENDE_JUGENDJAHRE  DECADE_PRAEGENDE_JUGENDJAHRE  \\\n",
       "count                    7.974260e+05                  7.974260e+05   \n",
       "mean                     1.295045e-16                  3.846643e-16   \n",
       "std                      1.000001e+00                  1.000001e+00   \n",
       "min                     -5.530912e-01                 -2.328113e+00   \n",
       "25%                     -5.530912e-01                 -9.306643e-01   \n",
       "50%                     -5.530912e-01                  3.102960e-16   \n",
       "75%                      2.021735e-16                  1.165509e+00   \n",
       "max                      1.874931e+00                  1.165509e+00   \n",
       "\n",
       "       WEALTH_CAMEO_INTL_2015  LIFESTAGE_CAMEO_INTL_2015  \n",
       "count            7.974260e+05               7.974260e+05  \n",
       "mean            -3.277443e-16              -3.989923e-16  \n",
       "std              1.000001e+00               1.000001e+00  \n",
       "min             -1.550709e+00              -1.266147e+00  \n",
       "25%             -8.653040e-01              -1.266147e+00  \n",
       "50%              5.055069e-01               8.587953e-02  \n",
       "75%              1.190912e+00               7.618927e-01  \n",
       "max              1.190912e+00               1.437906e+00  \n",
       "\n",
       "[8 rows x 70 columns]"
      ]
     },
     "execution_count": 8,
     "metadata": {},
     "output_type": "execute_result"
    }
   ],
   "source": [
    "# Apply feature scaling to the general population demographics data.\n",
    "from sklearn.preprocessing import StandardScaler\n",
    "\n",
    "scaler = StandardScaler()\n",
    "scaled_array = scaler.fit_transform(df_imputed)\n",
    "df_scaled = pd.DataFrame(scaled_array, columns=df.columns.values)\n",
    "df_scaled.describe()"
   ]
  },
  {
   "cell_type": "markdown",
   "metadata": {},
   "source": [
    "### Discussion 2.1: Apply Feature Scaling\n",
    "\n",
    "The decision to impute on column was taken because columnar data is more likely to be homogenous than row data. Also since the features (columns) are independent, this decision was justified. \n",
    "\n",
    "After imputation, we check with the `describe()` function and find that mean and standard deviation remain almost the same. \n",
    "After standard scaling, we check whether the all the columns have a standard deviation of 1 and a mean of 0, which we clearly observe via the `describe()` function.\n",
    "\n",
    "Standard scaling is important because otherwise machine learning estimators might behave badly if the features do not more or less look like standard normally distributed data (e.g. Gaussian with 0 mean and unit variance). \n",
    "\n",
    "#### Reference\n",
    "* [StandardScaler documentation](http://scikit-learn.org/stable/modules/generated/sklearn.preprocessing.StandardScaler.html)"
   ]
  },
  {
   "cell_type": "markdown",
   "metadata": {},
   "source": [
    "### Step 2.2: Perform Dimensionality Reduction\n",
    "\n",
    "On your scaled data, you are now ready to apply dimensionality reduction techniques.\n",
    "\n",
    "- Use sklearn's [PCA](http://scikit-learn.org/stable/modules/generated/sklearn.decomposition.PCA.html) class to apply principal component analysis on the data, thus finding the vectors of maximal variance in the data. To start, you should not set any parameters (so all components are computed) or set a number of components that is at least half the number of features (so there's enough features to see the general trend in variability).\n",
    "- Check out the ratio of variance explained by each principal component as well as the cumulative variance explained. Try plotting the cumulative or sequential values using matplotlib's [`plot()`](https://matplotlib.org/api/_as_gen/matplotlib.pyplot.plot.html) function. Based on what you find, select a value for the number of transformed features you'll retain for the clustering part of the project.\n",
    "- Once you've made a choice for the number of components to keep, make sure you re-fit a PCA instance to perform the decided-on transformation."
   ]
  },
  {
   "cell_type": "code",
   "execution_count": 9,
   "metadata": {},
   "outputs": [],
   "source": [
    "import dimensionality_helper\n",
    "reload(dimensionality_helper)\n",
    "from dimensionality_helper import do_pca, pca_results, scree_plot"
   ]
  },
  {
   "cell_type": "code",
   "execution_count": 10,
   "metadata": {},
   "outputs": [],
   "source": [
    "# Apply PCA to the data.\n",
    "from sklearn.decomposition import PCA\n",
    "pca = PCA()\n",
    "X_pca = pca.fit_transform(df_scaled)"
   ]
  },
  {
   "cell_type": "code",
   "execution_count": 11,
   "metadata": {},
   "outputs": [
    {
     "data": {
      "image/png": "[encoded data removed]",
      "text/plain": [
       "<Figure size 720x432 with 1 Axes>"
      ]
     },
     "metadata": {
      "needs_background": "light"
     },
     "output_type": "display_data"
    }
   ],
   "source": [
    "# Investigate the variance accounted for by each principal component.\n",
    "\n",
    "scree_plot(pca)"
   ]
  },
  {
   "cell_type": "code",
   "execution_count": 68,
   "metadata": {},
   "outputs": [
    {
     "name": "stdout",
     "output_type": "stream",
     "text": [
      "Using 26 components, we can explain 0.8501% of the variability in the original data.\n"
     ]
    }
   ],
   "source": [
    "for components in range(1, df_scaled.shape[1]):\n",
    "    pca, X_pca = do_pca(components, df_scaled)\n",
    "    component_check = pca_results(df_scaled, pca)\n",
    "    if component_check[\"Explained Variance\"].sum() > 0.85:\n",
    "        break\n",
    "        \n",
    "num_comps = component_check.shape[0]\n",
    "print(\"Using {} components, we can explain {}% of the variability in the original data.\".format(num_comps,component_check['Explained Variance'].sum()))"
   ]
  },
  {
   "cell_type": "code",
   "execution_count": 69,
   "metadata": {},
   "outputs": [
    {
     "name": "stdout",
     "output_type": "stream",
     "text": [
      "Using 34 components, we can explain 0.9052% of the variability in the original data.\n"
     ]
    }
   ],
   "source": [
    "for components in range(1, df_scaled.shape[1]):\n",
    "    pca, X_pca = do_pca(components, df_scaled)\n",
    "    component_check = pca_results(df_scaled, pca)\n",
    "    if component_check[\"Explained Variance\"].sum() > 0.9:\n",
    "        break\n",
    "        \n",
    "num_comps = component_check.shape[0]\n",
    "print(\"Using {} components, we can explain {}% of the variability in the original data.\".format(num_comps,component_check['Explained Variance'].sum()))"
   ]
  },
  {
   "cell_type": "code",
   "execution_count": 16,
   "metadata": {},
   "outputs": [
    {
     "name": "stdout",
     "output_type": "stream",
     "text": [
      "Using 44 components, we can explain 95.10000000000001% of the variability in the original data.\n"
     ]
    }
   ],
   "source": [
    "for components in range(1, df_scaled.shape[1]):\n",
    "    pca, X_pca = do_pca(components, df_scaled)\n",
    "    component_check = pca_results(df_scaled, pca)\n",
    "    if component_check[\"Explained Variance\"].sum() > 0.95:\n",
    "        break\n",
    "        \n",
    "num_comps = component_check.shape[0]\n",
    "print(\"Using {} components, we can explain {}% of the variability in the original data.\".format(num_comps,component_check['Explained Variance'].sum()*100))"
   ]
  },
  {
   "cell_type": "code",
   "execution_count": null,
   "metadata": {},
   "outputs": [],
   "source": []
  },
  {
   "cell_type": "code",
   "execution_count": 12,
   "metadata": {},
   "outputs": [],
   "source": [
    "# Re-apply PCA to the data while selecting for number of components to retain.\n",
    "\n",
    "n_components = 44\n",
    "pca, X_pca = do_pca(n_components=n_components, data=df_scaled)"
   ]
  },
  {
   "cell_type": "markdown",
   "metadata": {},
   "source": [
    "### Discussion 2.2: Perform Dimensionality Reduction\n",
    "\n",
    "Since the Scree Plot didn't exhibit any prominent elbow, I had to manually enforce thresholds and check the number of components explaining decent percentage of variability. \n",
    "\n",
    "Finally I settled on 44 components which explain 95% of the variability. "
   ]
  },
  {
   "cell_type": "markdown",
   "metadata": {},
   "source": [
    "### Step 2.3: Interpret Principal Components\n",
    "\n",
    "Now that we have our transformed principal components, it's a nice idea to check out the weight of each variable on the first few components to see if they can be interpreted in some fashion.\n",
    "\n",
    "As a reminder, each principal component is a unit vector that points in the direction of highest variance (after accounting for the variance captured by earlier principal components). The further a weight is from zero, the more the principal component is in the direction of the corresponding feature. If two features have large weights of the same sign (both positive or both negative), then increases in one tend expect to be associated with increases in the other. To contrast, features with different signs can be expected to show a negative correlation: increases in one variable should result in a decrease in the other.\n",
    "\n",
    "- To investigate the features, you should map each weight to their corresponding feature name, then sort the features according to weight. The most interesting features for each principal component, then, will be those at the beginning and end of the sorted list. Use the data dictionary document to help you understand these most prominent features, their relationships, and what a positive or negative value on the principal component might indicate.\n",
    "- You should investigate and interpret feature associations from the first three principal components in this substep. To help facilitate this, you should write a function that you can call at any time to print the sorted list of feature weights, for the *i*-th principal component. This might come in handy in the next step of the project, when you interpret the tendencies of the discovered clusters."
   ]
  },
  {
   "cell_type": "code",
   "execution_count": 26,
   "metadata": {
    "collapsed": true
   },
   "outputs": [
    {
     "data": {
      "image/png": "[encoded data removed]",
      "text/plain": [
       "<Figure size 1080x432 with 1 Axes>"
      ]
     },
     "metadata": {
      "needs_background": "light"
     },
     "output_type": "display_data"
    }
   ],
   "source": [
    "# Map weights for the first principal component to corresponding feature names\n",
    "# and then print the linked values, sorted by weight.\n",
    "# HINT: Try defining a function here or in a new cell that you can reuse in the\n",
    "# other cells.\n"
   ]
  },
  {
   "cell_type": "code",
   "execution_count": 76,
   "metadata": {},
   "outputs": [],
   "source": [
    "df_components = pd.DataFrame(pca.components_, columns=df_scaled.keys())"
   ]
  },
  {
   "cell_type": "code",
   "execution_count": 104,
   "metadata": {},
   "outputs": [],
   "source": [
    "def plot_weights(top_features):\n",
    "    plt.figure(figsize=(10,6))\n",
    "    scalar_points = [*range(len(top_features.keys()))]\n",
    "    plt.bar(scalar_points, top_features.values)\n",
    "    plt.xticks(scalar_points, top_features.keys().values, rotation=\"vertical\")\n",
    "    plt.show()"
   ]
  },
  {
   "cell_type": "code",
   "execution_count": 111,
   "metadata": {},
   "outputs": [],
   "source": [
    "def prepare_and_plot(df, i, top_n):\n",
    "    sorted_values = df.loc[i-1].sort_values()\n",
    "    top_positive_features = sorted_values[-top_n:]\n",
    "    top_negative_features = sorted_values[:top_n]\n",
    "    \n",
    "    plot_weights(top_positive_features)\n",
    "    plot_weights(top_negative_features)\n",
    "    return top_positive_features, top_negative_features"
   ]
  },
  {
   "cell_type": "code",
   "execution_count": 116,
   "metadata": {},
   "outputs": [
    {
     "data": {
      "image/png": "[encoded data removed]",
      "text/plain": [
       "<Figure size 720x432 with 1 Axes>"
      ]
     },
     "metadata": {
      "needs_background": "light"
     },
     "output_type": "display_data"
    },
    {
     "data": {
      "image/png": "[encoded data removed]",
      "text/plain": [
       "<Figure size 720x432 with 1 Axes>"
      ]
     },
     "metadata": {
      "needs_background": "light"
     },
     "output_type": "display_data"
    }
   ],
   "source": [
    "top_p1, top_n1 = prepare_and_plot(df_components, 1, 10)"
   ]
  },
  {
   "cell_type": "code",
   "execution_count": 113,
   "metadata": {},
   "outputs": [
    {
     "data": {
      "image/png": "[encoded data removed]",
      "text/plain": [
       "<Figure size 720x432 with 1 Axes>"
      ]
     },
     "metadata": {
      "needs_background": "light"
     },
     "output_type": "display_data"
    },
    {
     "data": {
      "image/png": "[encoded data removed]",
      "text/plain": [
       "<Figure size 720x432 with 1 Axes>"
      ]
     },
     "metadata": {
      "needs_background": "light"
     },
     "output_type": "display_data"
    }
   ],
   "source": [
    "# Map weights for the second principal component to corresponding feature names\n",
    "# and then print the linked values, sorted by weight.\n",
    "\n",
    "top_p2, top_n2 = prepare_and_plot(df_components, 2, 10)"
   ]
  },
  {
   "cell_type": "code",
   "execution_count": 114,
   "metadata": {},
   "outputs": [
    {
     "data": {
      "image/png": "[encoded data removed]",
      "text/plain": [
       "<Figure size 720x432 with 1 Axes>"
      ]
     },
     "metadata": {
      "needs_background": "light"
     },
     "output_type": "display_data"
    },
    {
     "data": {
      "image/png": "[encoded data removed]",
      "text/plain": [
       "<Figure size 720x432 with 1 Axes>"
      ]
     },
     "metadata": {
      "needs_background": "light"
     },
     "output_type": "display_data"
    }
   ],
   "source": [
    "# Map weights for the third principal component to corresponding feature names\n",
    "# and then print the linked values, sorted by weight.\n",
    "\n",
    "top_p3, top_n3 = prepare_and_plot(df_components, 3, 10)"
   ]
  },
  {
   "cell_type": "markdown",
   "metadata": {},
   "source": [
    "### Discussion 2.3: Interpret Principal Components\n",
    "\n"
   ]
  },
  {
   "cell_type": "markdown",
   "metadata": {},
   "source": [
    "## Step 3: Clustering\n",
    "\n",
    "### Step 3.1: Apply Clustering to General Population\n",
    "\n",
    "You've assessed and cleaned the demographics data, then scaled and transformed them. Now, it's time to see how the data clusters in the principal components space. In this substep, you will apply k-means clustering to the dataset and use the average within-cluster distances from each point to their assigned cluster's centroid to decide on a number of clusters to keep.\n",
    "\n",
    "- Use sklearn's [KMeans](http://scikit-learn.org/stable/modules/generated/sklearn.cluster.KMeans.html#sklearn.cluster.KMeans) class to perform k-means clustering on the PCA-transformed data.\n",
    "- Then, compute the average difference from each point to its assigned cluster's center. **Hint**: The KMeans object's `.score()` method might be useful here, but note that in sklearn, scores tend to be defined so that larger is better. Try applying it to a small, toy dataset, or use an internet search to help your understanding.\n",
    "- Perform the above two steps for a number of different cluster counts. You can then see how the average distance decreases with an increasing number of clusters. However, each additional cluster provides a smaller net benefit. Use this fact to select a final number of clusters in which to group the data. **Warning**: because of the large size of the dataset, it can take a long time for the algorithm to resolve. The more clusters to fit, the longer the algorithm will take. You should test for cluster counts through at least 10 clusters to get the full picture, but you shouldn't need to test for a number of clusters above about 30.\n",
    "- Once you've selected a final number of clusters to use, re-fit a KMeans instance to perform the clustering operation. Make sure that you also obtain the cluster assignments for the general demographics data, since you'll be using them in the final Step 3.3."
   ]
  },
  {
   "cell_type": "code",
   "execution_count": null,
   "metadata": {},
   "outputs": [],
   "source": [
    "# Over a number of different cluster counts...\n",
    "\n",
    "\n",
    "    # run k-means clustering on the data and...\n",
    "    \n",
    "    \n",
    "    # compute the average within-cluster distances.\n",
    "    \n",
    "    "
   ]
  },
  {
   "cell_type": "code",
   "execution_count": null,
   "metadata": {},
   "outputs": [],
   "source": [
    "# Investigate the change in within-cluster distance across number of clusters.\n",
    "# HINT: Use matplotlib's plot function to visualize this relationship.\n",
    "\n"
   ]
  },
  {
   "cell_type": "code",
   "execution_count": null,
   "metadata": {},
   "outputs": [],
   "source": [
    "# Re-fit the k-means model with the selected number of clusters and obtain\n",
    "# cluster predictions for the general population demographics data.\n",
    "\n"
   ]
  },
  {
   "cell_type": "markdown",
   "metadata": {},
   "source": [
    "### Discussion 3.1: Apply Clustering to General Population\n",
    "\n",
    "(Double-click this cell and replace this text with your own text, reporting your findings and decisions regarding clustering. Into how many clusters have you decided to segment the population?)"
   ]
  },
  {
   "cell_type": "markdown",
   "metadata": {},
   "source": [
    "### Step 3.2: Apply All Steps to the Customer Data\n",
    "\n",
    "Now that you have clusters and cluster centers for the general population, it's time to see how the customer data maps on to those clusters. Take care to not confuse this for re-fitting all of the models to the customer data. Instead, you're going to use the fits from the general population to clean, transform, and cluster the customer data. In the last step of the project, you will interpret how the general population fits apply to the customer data.\n",
    "\n",
    "- Don't forget when loading in the customers data, that it is semicolon (`;`) delimited.\n",
    "- Apply the same feature wrangling, selection, and engineering steps to the customer demographics using the `clean_data()` function you created earlier. (You can assume that the customer demographics data has similar meaning behind missing data patterns as the general demographics data.)\n",
    "- Use the sklearn objects from the general demographics data, and apply their transformations to the customers data. That is, you should not be using a `.fit()` or `.fit_transform()` method to re-fit the old objects, nor should you be creating new sklearn objects! Carry the data through the feature scaling, PCA, and clustering steps, obtaining cluster assignments for all of the data in the customer demographics data."
   ]
  },
  {
   "cell_type": "code",
   "execution_count": null,
   "metadata": {},
   "outputs": [],
   "source": [
    "# Load in the customer demographics data.\n",
    "customers = "
   ]
  },
  {
   "cell_type": "code",
   "execution_count": null,
   "metadata": {},
   "outputs": [],
   "source": [
    "# Apply preprocessing, feature transformation, and clustering from the general\n",
    "# demographics onto the customer data, obtaining cluster predictions for the\n",
    "# customer demographics data.\n",
    "\n"
   ]
  },
  {
   "cell_type": "markdown",
   "metadata": {},
   "source": [
    "### Step 3.3: Compare Customer Data to Demographics Data\n",
    "\n",
    "At this point, you have clustered data based on demographics of the general population of Germany, and seen how the customer data for a mail-order sales company maps onto those demographic clusters. In this final substep, you will compare the two cluster distributions to see where the strongest customer base for the company is.\n",
    "\n",
    "Consider the proportion of persons in each cluster for the general population, and the proportions for the customers. If we think the company's customer base to be universal, then the cluster assignment proportions should be fairly similar between the two. If there are only particular segments of the population that are interested in the company's products, then we should see a mismatch from one to the other. If there is a higher proportion of persons in a cluster for the customer data compared to the general population (e.g. 5% of persons are assigned to a cluster for the general population, but 15% of the customer data is closest to that cluster's centroid) then that suggests the people in that cluster to be a target audience for the company. On the other hand, the proportion of the data in a cluster being larger in the general population than the customer data (e.g. only 2% of customers closest to a population centroid that captures 6% of the data) suggests that group of persons to be outside of the target demographics.\n",
    "\n",
    "Take a look at the following points in this step:\n",
    "\n",
    "- Compute the proportion of data points in each cluster for the general population and the customer data. Visualizations will be useful here: both for the individual dataset proportions, but also to visualize the ratios in cluster representation between groups. Seaborn's [`countplot()`](https://seaborn.pydata.org/generated/seaborn.countplot.html) or [`barplot()`](https://seaborn.pydata.org/generated/seaborn.barplot.html) function could be handy.\n",
    "  - Recall the analysis you performed in step 1.1.3 of the project, where you separated out certain data points from the dataset if they had more than a specified threshold of missing values. If you found that this group was qualitatively different from the main bulk of the data, you should treat this as an additional data cluster in this analysis. Make sure that you account for the number of data points in this subset, for both the general population and customer datasets, when making your computations!\n",
    "- Which cluster or clusters are overrepresented in the customer dataset compared to the general population? Select at least one such cluster and infer what kind of people might be represented by that cluster. Use the principal component interpretations from step 2.3 or look at additional components to help you make this inference. Alternatively, you can use the `.inverse_transform()` method of the PCA and StandardScaler objects to transform centroids back to the original data space and interpret the retrieved values directly.\n",
    "- Perform a similar investigation for the underrepresented clusters. Which cluster or clusters are underrepresented in the customer dataset compared to the general population, and what kinds of people are typified by these clusters?"
   ]
  },
  {
   "cell_type": "code",
   "execution_count": null,
   "metadata": {},
   "outputs": [],
   "source": [
    "# Compare the proportion of data in each cluster for the customer data to the\n",
    "# proportion of data in each cluster for the general population.\n",
    "\n"
   ]
  },
  {
   "cell_type": "code",
   "execution_count": null,
   "metadata": {},
   "outputs": [],
   "source": [
    "# What kinds of people are part of a cluster that is overrepresented in the\n",
    "# customer data compared to the general population?\n",
    "\n"
   ]
  },
  {
   "cell_type": "code",
   "execution_count": null,
   "metadata": {},
   "outputs": [],
   "source": [
    "# What kinds of people are part of a cluster that is underrepresented in the\n",
    "# customer data compared to the general population?\n",
    "\n"
   ]
  },
  {
   "cell_type": "markdown",
   "metadata": {},
   "source": [
    "### Discussion 3.3: Compare Customer Data to Demographics Data\n",
    "\n",
    "(Double-click this cell and replace this text with your own text, reporting findings and conclusions from the clustering analysis. Can we describe segments of the population that are relatively popular with the mail-order company, or relatively unpopular with the company?)"
   ]
  },
  {
   "cell_type": "markdown",
   "metadata": {},
   "source": [
    "> Congratulations on making it this far in the project! Before you finish, make sure to check through the entire notebook from top to bottom to make sure that your analysis follows a logical flow and all of your findings are documented in **Discussion** cells. Once you've checked over all of your work, you should export the notebook as an HTML document to submit for evaluation. You can do this from the menu, navigating to **File -> Download as -> HTML (.html)**. You will submit both that document and this notebook for your project submission."
   ]
  },
  {
   "cell_type": "code",
   "execution_count": null,
   "metadata": {},
   "outputs": [],
   "source": []
  }
 ],
 "metadata": {
  "kernelspec": {
   "display_name": "Python 3",
   "language": "python",
   "name": "python3"
  },
  "language_info": {
   "codemirror_mode": {
    "name": "ipython",
    "version": 3
   },
   "file_extension": ".py",
   "mimetype": "text/x-python",
   "name": "python",
   "nbconvert_exporter": "python",
   "pygments_lexer": "ipython3",
   "version": "3.6.3"
  }
 },
 "nbformat": 4,
 "nbformat_minor": 2
}
